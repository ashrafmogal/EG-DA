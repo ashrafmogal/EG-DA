{
 "cells": [
  {
   "cell_type": "code",
   "execution_count": 1,
   "id": "16578510-648d-4dcb-87cc-d80a80c3218c",
   "metadata": {},
   "outputs": [],
   "source": [
    "import seaborn as sns\n",
    "import pandas as pd\n",
    "import matplotlib.pyplot as plt\n",
    "import numpy as np\n",
    "import pyrsm as rsm\n",
    "from datetime import timedelta\n",
    "from datetime import datetime\n",
    "\n",
    "\n",
    "data = pd.read_csv('social_data.xlsx - Data.csv')"
   ]
  },
  {
   "cell_type": "code",
   "execution_count": 2,
   "id": "419a1ef1-7225-460e-8a24-9b7f171e4f24",
   "metadata": {},
   "outputs": [
    {
     "data": {
      "text/html": [
       "<div>\n",
       "<style scoped>\n",
       "    .dataframe tbody tr th:only-of-type {\n",
       "        vertical-align: middle;\n",
       "    }\n",
       "\n",
       "    .dataframe tbody tr th {\n",
       "        vertical-align: top;\n",
       "    }\n",
       "\n",
       "    .dataframe thead th {\n",
       "        text-align: right;\n",
       "    }\n",
       "</style>\n",
       "<table border=\"1\" class=\"dataframe\">\n",
       "  <thead>\n",
       "    <tr style=\"text-align: right;\">\n",
       "      <th></th>\n",
       "      <th>Published Date</th>\n",
       "      <th>Account</th>\n",
       "      <th>Account Type</th>\n",
       "      <th>Campaign Name</th>\n",
       "      <th>Total Impressions</th>\n",
       "      <th>Total Engagements</th>\n",
       "      <th>Media Type</th>\n",
       "    </tr>\n",
       "  </thead>\n",
       "  <tbody>\n",
       "    <tr>\n",
       "      <th>0</th>\n",
       "      <td>03-31-2023 19:55</td>\n",
       "      <td>CSGO</td>\n",
       "      <td>TWITTER</td>\n",
       "      <td>N/A</td>\n",
       "      <td>0</td>\n",
       "      <td>0</td>\n",
       "      <td>Text</td>\n",
       "    </tr>\n",
       "    <tr>\n",
       "      <th>1</th>\n",
       "      <td>03-31-2023 19:49</td>\n",
       "      <td>CSGO</td>\n",
       "      <td>TWITTER</td>\n",
       "      <td>N/A</td>\n",
       "      <td>0</td>\n",
       "      <td>0</td>\n",
       "      <td>Text</td>\n",
       "    </tr>\n",
       "    <tr>\n",
       "      <th>2</th>\n",
       "      <td>03-31-2023 19:49</td>\n",
       "      <td>CSGO</td>\n",
       "      <td>TWITTER</td>\n",
       "      <td>N/A</td>\n",
       "      <td>0</td>\n",
       "      <td>0</td>\n",
       "      <td>Text</td>\n",
       "    </tr>\n",
       "    <tr>\n",
       "      <th>3</th>\n",
       "      <td>03-31-2023 19:49</td>\n",
       "      <td>CSGO</td>\n",
       "      <td>TWITTER</td>\n",
       "      <td>N/A</td>\n",
       "      <td>0</td>\n",
       "      <td>0</td>\n",
       "      <td>Text</td>\n",
       "    </tr>\n",
       "    <tr>\n",
       "      <th>4</th>\n",
       "      <td>03-31-2023 19:43</td>\n",
       "      <td>CSGO</td>\n",
       "      <td>TWITTER</td>\n",
       "      <td>Community Engagement</td>\n",
       "      <td>9517</td>\n",
       "      <td>1215</td>\n",
       "      <td>Video</td>\n",
       "    </tr>\n",
       "    <tr>\n",
       "      <th>5</th>\n",
       "      <td>03-31-2023 19:42</td>\n",
       "      <td>CSGO</td>\n",
       "      <td>TWITTER</td>\n",
       "      <td>N/A</td>\n",
       "      <td>0</td>\n",
       "      <td>0</td>\n",
       "      <td>Photo</td>\n",
       "    </tr>\n",
       "    <tr>\n",
       "      <th>6</th>\n",
       "      <td>03-31-2023 19:40</td>\n",
       "      <td>CSGO</td>\n",
       "      <td>TWITTER</td>\n",
       "      <td>Community Engagement</td>\n",
       "      <td>1882</td>\n",
       "      <td>83</td>\n",
       "      <td>Photo</td>\n",
       "    </tr>\n",
       "    <tr>\n",
       "      <th>7</th>\n",
       "      <td>03-31-2023 19:23</td>\n",
       "      <td>CSGO</td>\n",
       "      <td>TWITTER</td>\n",
       "      <td>Community Engagement</td>\n",
       "      <td>17892</td>\n",
       "      <td>3076</td>\n",
       "      <td>Video</td>\n",
       "    </tr>\n",
       "    <tr>\n",
       "      <th>8</th>\n",
       "      <td>03-31-2023 19:15</td>\n",
       "      <td>CSGO</td>\n",
       "      <td>TWITTER</td>\n",
       "      <td>N/A</td>\n",
       "      <td>0</td>\n",
       "      <td>0</td>\n",
       "      <td>Video</td>\n",
       "    </tr>\n",
       "    <tr>\n",
       "      <th>9</th>\n",
       "      <td>03-31-2023 18:55</td>\n",
       "      <td>CSGO</td>\n",
       "      <td>TWITTER</td>\n",
       "      <td>Community Engagement</td>\n",
       "      <td>13874</td>\n",
       "      <td>1447</td>\n",
       "      <td>Video</td>\n",
       "    </tr>\n",
       "  </tbody>\n",
       "</table>\n",
       "</div>"
      ],
      "text/plain": [
       "     Published Date Account Account Type          Campaign Name  \\\n",
       "0  03-31-2023 19:55    CSGO      TWITTER                   N/A    \n",
       "1  03-31-2023 19:49    CSGO      TWITTER                   N/A    \n",
       "2  03-31-2023 19:49    CSGO      TWITTER                   N/A    \n",
       "3  03-31-2023 19:49    CSGO      TWITTER                   N/A    \n",
       "4  03-31-2023 19:43    CSGO      TWITTER  Community Engagement    \n",
       "5  03-31-2023 19:42    CSGO      TWITTER                   N/A    \n",
       "6  03-31-2023 19:40    CSGO      TWITTER  Community Engagement    \n",
       "7  03-31-2023 19:23    CSGO      TWITTER  Community Engagement    \n",
       "8  03-31-2023 19:15    CSGO      TWITTER                   N/A    \n",
       "9  03-31-2023 18:55    CSGO      TWITTER  Community Engagement    \n",
       "\n",
       "   Total Impressions  Total Engagements Media Type  \n",
       "0                  0                  0       Text  \n",
       "1                  0                  0       Text  \n",
       "2                  0                  0       Text  \n",
       "3                  0                  0       Text  \n",
       "4               9517               1215      Video  \n",
       "5                  0                  0      Photo  \n",
       "6               1882                 83      Photo  \n",
       "7              17892               3076      Video  \n",
       "8                  0                  0      Video  \n",
       "9              13874               1447      Video  "
      ]
     },
     "execution_count": 2,
     "metadata": {},
     "output_type": "execute_result"
    }
   ],
   "source": [
    "data.head(10)"
   ]
  },
  {
   "cell_type": "markdown",
   "id": "f0b78a7a-9525-42b0-a385-40a402ef1eeb",
   "metadata": {},
   "source": [
    "# Data Cleaning and Exploration"
   ]
  },
  {
   "cell_type": "code",
   "execution_count": 3,
   "id": "1509b46c-3a15-4136-89ca-7fdc8209dfef",
   "metadata": {},
   "outputs": [
    {
     "data": {
      "text/plain": [
       "(3479, 7)"
      ]
     },
     "execution_count": 3,
     "metadata": {},
     "output_type": "execute_result"
    }
   ],
   "source": [
    "data.shape"
   ]
  },
  {
   "cell_type": "code",
   "execution_count": 4,
   "id": "a8b5d5a1-00dc-4190-928c-e99ac85c3971",
   "metadata": {},
   "outputs": [
    {
     "data": {
      "text/plain": [
       "array(['CSGO', 'General ', 'DOTA2', 'Content Creators', 'Valorant',\n",
       "       'General'], dtype=object)"
      ]
     },
     "execution_count": 4,
     "metadata": {},
     "output_type": "execute_result"
    }
   ],
   "source": [
    "unique_accounts = data['Account'].unique()\n",
    "unique_accounts"
   ]
  },
  {
   "cell_type": "code",
   "execution_count": 5,
   "id": "9fd68fd6-0937-41c2-9d15-d4f816260167",
   "metadata": {},
   "outputs": [],
   "source": [
    "data['Account'] = data['Account'].str.replace('General ', 'General')"
   ]
  },
  {
   "cell_type": "code",
   "execution_count": 8,
   "id": "ad98b5f8-57c0-460e-8ad5-0b82f2a60af1",
   "metadata": {},
   "outputs": [
    {
     "data": {
      "text/plain": [
       "array(['CSGO', 'General', 'DOTA2', 'Content Creators', 'Valorant'],\n",
       "      dtype=object)"
      ]
     },
     "execution_count": 8,
     "metadata": {},
     "output_type": "execute_result"
    }
   ],
   "source": [
    "unique_accounts1 = data['Account'].unique()\n",
    "unique_accounts1"
   ]
  },
  {
   "cell_type": "markdown",
   "id": "69614662-596f-4f0a-8538-ad0fb8293dc9",
   "metadata": {},
   "source": [
    "## Comment on taking the general row"
   ]
  },
  {
   "cell_type": "code",
   "execution_count": 13,
   "id": "568ea2ab-a497-4bb1-92f1-fcc80bb75b5d",
   "metadata": {},
   "outputs": [
    {
     "data": {
      "text/html": [
       "<div>\n",
       "<style scoped>\n",
       "    .dataframe tbody tr th:only-of-type {\n",
       "        vertical-align: middle;\n",
       "    }\n",
       "\n",
       "    .dataframe tbody tr th {\n",
       "        vertical-align: top;\n",
       "    }\n",
       "\n",
       "    .dataframe thead th {\n",
       "        text-align: right;\n",
       "    }\n",
       "</style>\n",
       "<table border=\"1\" class=\"dataframe\">\n",
       "  <thead>\n",
       "    <tr style=\"text-align: right;\">\n",
       "      <th></th>\n",
       "      <th>Published Date</th>\n",
       "      <th>Account</th>\n",
       "      <th>Account Type</th>\n",
       "      <th>Campaign Name</th>\n",
       "      <th>Total Impressions</th>\n",
       "      <th>Total Engagements</th>\n",
       "      <th>Media Type</th>\n",
       "    </tr>\n",
       "  </thead>\n",
       "  <tbody>\n",
       "    <tr>\n",
       "      <th>4</th>\n",
       "      <td>03-31-2023 19:43</td>\n",
       "      <td>CSGO</td>\n",
       "      <td>TWITTER</td>\n",
       "      <td>Community Engagement</td>\n",
       "      <td>9517</td>\n",
       "      <td>1215</td>\n",
       "      <td>Video</td>\n",
       "    </tr>\n",
       "    <tr>\n",
       "      <th>6</th>\n",
       "      <td>03-31-2023 19:40</td>\n",
       "      <td>CSGO</td>\n",
       "      <td>TWITTER</td>\n",
       "      <td>Community Engagement</td>\n",
       "      <td>1882</td>\n",
       "      <td>83</td>\n",
       "      <td>Photo</td>\n",
       "    </tr>\n",
       "    <tr>\n",
       "      <th>7</th>\n",
       "      <td>03-31-2023 19:23</td>\n",
       "      <td>CSGO</td>\n",
       "      <td>TWITTER</td>\n",
       "      <td>Community Engagement</td>\n",
       "      <td>17892</td>\n",
       "      <td>3076</td>\n",
       "      <td>Video</td>\n",
       "    </tr>\n",
       "    <tr>\n",
       "      <th>9</th>\n",
       "      <td>03-31-2023 18:55</td>\n",
       "      <td>CSGO</td>\n",
       "      <td>TWITTER</td>\n",
       "      <td>Community Engagement</td>\n",
       "      <td>13874</td>\n",
       "      <td>1447</td>\n",
       "      <td>Video</td>\n",
       "    </tr>\n",
       "    <tr>\n",
       "      <th>10</th>\n",
       "      <td>03-31-2023 18:36</td>\n",
       "      <td>General</td>\n",
       "      <td>FBPAGE</td>\n",
       "      <td>Community Engagement</td>\n",
       "      <td>37692</td>\n",
       "      <td>8044</td>\n",
       "      <td>Photo</td>\n",
       "    </tr>\n",
       "    <tr>\n",
       "      <th>...</th>\n",
       "      <td>...</td>\n",
       "      <td>...</td>\n",
       "      <td>...</td>\n",
       "      <td>...</td>\n",
       "      <td>...</td>\n",
       "      <td>...</td>\n",
       "      <td>...</td>\n",
       "    </tr>\n",
       "    <tr>\n",
       "      <th>3440</th>\n",
       "      <td>01-08-2023 11:47</td>\n",
       "      <td>General</td>\n",
       "      <td>TWITTER</td>\n",
       "      <td>Community Engagement</td>\n",
       "      <td>19823</td>\n",
       "      <td>243</td>\n",
       "      <td>Photo</td>\n",
       "    </tr>\n",
       "    <tr>\n",
       "      <th>3459</th>\n",
       "      <td>01-05-2023 09:00</td>\n",
       "      <td>CSGO</td>\n",
       "      <td>TWITTER</td>\n",
       "      <td>Community Engagement</td>\n",
       "      <td>445130</td>\n",
       "      <td>10597</td>\n",
       "      <td>Video</td>\n",
       "    </tr>\n",
       "    <tr>\n",
       "      <th>3461</th>\n",
       "      <td>01-04-2023 14:57</td>\n",
       "      <td>General</td>\n",
       "      <td>FBPAGE</td>\n",
       "      <td>Community Engagement</td>\n",
       "      <td>155521</td>\n",
       "      <td>19098</td>\n",
       "      <td>Photo</td>\n",
       "    </tr>\n",
       "    <tr>\n",
       "      <th>3464</th>\n",
       "      <td>01-04-2023 13:00</td>\n",
       "      <td>General</td>\n",
       "      <td>TWITTER</td>\n",
       "      <td>Community Engagement</td>\n",
       "      <td>136660</td>\n",
       "      <td>2371</td>\n",
       "      <td>Photo</td>\n",
       "    </tr>\n",
       "    <tr>\n",
       "      <th>3465</th>\n",
       "      <td>01-04-2023 13:00</td>\n",
       "      <td>General</td>\n",
       "      <td>FBPAGE</td>\n",
       "      <td>Community Engagement</td>\n",
       "      <td>29051</td>\n",
       "      <td>811</td>\n",
       "      <td>Photo</td>\n",
       "    </tr>\n",
       "  </tbody>\n",
       "</table>\n",
       "<p>1994 rows × 7 columns</p>\n",
       "</div>"
      ],
      "text/plain": [
       "        Published Date  Account Account Type          Campaign Name  \\\n",
       "4     03-31-2023 19:43     CSGO      TWITTER  Community Engagement    \n",
       "6     03-31-2023 19:40     CSGO      TWITTER  Community Engagement    \n",
       "7     03-31-2023 19:23     CSGO      TWITTER  Community Engagement    \n",
       "9     03-31-2023 18:55     CSGO      TWITTER  Community Engagement    \n",
       "10    03-31-2023 18:36  General       FBPAGE  Community Engagement    \n",
       "...                ...      ...          ...                    ...   \n",
       "3440  01-08-2023 11:47  General      TWITTER  Community Engagement    \n",
       "3459  01-05-2023 09:00     CSGO      TWITTER  Community Engagement    \n",
       "3461  01-04-2023 14:57  General       FBPAGE  Community Engagement    \n",
       "3464  01-04-2023 13:00  General      TWITTER  Community Engagement    \n",
       "3465  01-04-2023 13:00  General       FBPAGE  Community Engagement    \n",
       "\n",
       "      Total Impressions  Total Engagements Media Type  \n",
       "4                  9517               1215      Video  \n",
       "6                  1882                 83      Photo  \n",
       "7                 17892               3076      Video  \n",
       "9                 13874               1447      Video  \n",
       "10                37692               8044      Photo  \n",
       "...                 ...                ...        ...  \n",
       "3440              19823                243      Photo  \n",
       "3459             445130              10597      Video  \n",
       "3461             155521              19098      Photo  \n",
       "3464             136660               2371      Photo  \n",
       "3465              29051                811      Photo  \n",
       "\n",
       "[1994 rows x 7 columns]"
      ]
     },
     "execution_count": 13,
     "metadata": {},
     "output_type": "execute_result"
    }
   ],
   "source": [
    "filtered_data = data[data['Campaign Name'].str.strip() != 'N/A']\n",
    "filtered_data"
   ]
  },
  {
   "cell_type": "code",
   "execution_count": 15,
   "id": "c6ce8332-a511-46f7-92c0-e244912d9592",
   "metadata": {},
   "outputs": [
    {
     "name": "stdout",
     "output_type": "stream",
     "text": [
      "<class 'pandas.core.frame.DataFrame'>\n",
      "Int64Index: 1994 entries, 4 to 3465\n",
      "Data columns (total 7 columns):\n",
      " #   Column             Non-Null Count  Dtype \n",
      "---  ------             --------------  ----- \n",
      " 0   Published Date     1994 non-null   object\n",
      " 1   Account            1994 non-null   object\n",
      " 2   Account Type       1994 non-null   object\n",
      " 3   Campaign Name      1994 non-null   object\n",
      " 4   Total Impressions  1994 non-null   int64 \n",
      " 5   Total Engagements  1994 non-null   int64 \n",
      " 6   Media Type         1994 non-null   object\n",
      "dtypes: int64(2), object(5)\n",
      "memory usage: 124.6+ KB\n"
     ]
    }
   ],
   "source": [
    "filtered_data.info()"
   ]
  },
  {
   "cell_type": "code",
   "execution_count": 16,
   "id": "804f8d83-01aa-4fb9-9f39-d62a48ee40fd",
   "metadata": {},
   "outputs": [
    {
     "name": "stderr",
     "output_type": "stream",
     "text": [
      "/tmp/ipykernel_56789/735474853.py:1: SettingWithCopyWarning: \n",
      "A value is trying to be set on a copy of a slice from a DataFrame.\n",
      "Try using .loc[row_indexer,col_indexer] = value instead\n",
      "\n",
      "See the caveats in the documentation: https://pandas.pydata.org/pandas-docs/stable/user_guide/indexing.html#returning-a-view-versus-a-copy\n",
      "  filtered_data['Published Date'] = pd.to_datetime(filtered_data['Published Date'])\n"
     ]
    },
    {
     "data": {
      "text/plain": [
       "Published Date       datetime64[ns]\n",
       "Account                      object\n",
       "Account Type                 object\n",
       "Campaign Name                object\n",
       "Total Impressions             int64\n",
       "Total Engagements             int64\n",
       "Media Type                   object\n",
       "dtype: object"
      ]
     },
     "execution_count": 16,
     "metadata": {},
     "output_type": "execute_result"
    }
   ],
   "source": [
    "filtered_data['Published Date'] = pd.to_datetime(filtered_data['Published Date'])\n",
    "filtered_data.dtypes"
   ]
  },
  {
   "cell_type": "code",
   "execution_count": 17,
   "id": "a59e2b35-ea16-48f1-9425-1239e7add7be",
   "metadata": {},
   "outputs": [
    {
     "name": "stderr",
     "output_type": "stream",
     "text": [
      "/tmp/ipykernel_56789/272516724.py:1: SettingWithCopyWarning: \n",
      "A value is trying to be set on a copy of a slice from a DataFrame.\n",
      "Try using .loc[row_indexer,col_indexer] = value instead\n",
      "\n",
      "See the caveats in the documentation: https://pandas.pydata.org/pandas-docs/stable/user_guide/indexing.html#returning-a-view-versus-a-copy\n",
      "  filtered_data['Date'] = filtered_data['Published Date'].dt.date\n",
      "/tmp/ipykernel_56789/272516724.py:2: SettingWithCopyWarning: \n",
      "A value is trying to be set on a copy of a slice from a DataFrame.\n",
      "Try using .loc[row_indexer,col_indexer] = value instead\n",
      "\n",
      "See the caveats in the documentation: https://pandas.pydata.org/pandas-docs/stable/user_guide/indexing.html#returning-a-view-versus-a-copy\n",
      "  filtered_data['Time'] = filtered_data['Published Date'].dt.time\n"
     ]
    }
   ],
   "source": [
    "filtered_data['Date'] = filtered_data['Published Date'].dt.date\n",
    "filtered_data['Time'] = filtered_data['Published Date'].dt.time"
   ]
  },
  {
   "cell_type": "code",
   "execution_count": 18,
   "id": "edfad447-96a4-48b7-9f13-d13c0296eb4d",
   "metadata": {},
   "outputs": [
    {
     "data": {
      "text/html": [
       "<div>\n",
       "<style scoped>\n",
       "    .dataframe tbody tr th:only-of-type {\n",
       "        vertical-align: middle;\n",
       "    }\n",
       "\n",
       "    .dataframe tbody tr th {\n",
       "        vertical-align: top;\n",
       "    }\n",
       "\n",
       "    .dataframe thead th {\n",
       "        text-align: right;\n",
       "    }\n",
       "</style>\n",
       "<table border=\"1\" class=\"dataframe\">\n",
       "  <thead>\n",
       "    <tr style=\"text-align: right;\">\n",
       "      <th></th>\n",
       "      <th>Published Date</th>\n",
       "      <th>Account</th>\n",
       "      <th>Account Type</th>\n",
       "      <th>Campaign Name</th>\n",
       "      <th>Total Impressions</th>\n",
       "      <th>Total Engagements</th>\n",
       "      <th>Media Type</th>\n",
       "      <th>Date</th>\n",
       "      <th>Time</th>\n",
       "    </tr>\n",
       "  </thead>\n",
       "  <tbody>\n",
       "    <tr>\n",
       "      <th>4</th>\n",
       "      <td>2023-03-31 19:43:00</td>\n",
       "      <td>CSGO</td>\n",
       "      <td>TWITTER</td>\n",
       "      <td>Community Engagement</td>\n",
       "      <td>9517</td>\n",
       "      <td>1215</td>\n",
       "      <td>Video</td>\n",
       "      <td>2023-03-31</td>\n",
       "      <td>19:43:00</td>\n",
       "    </tr>\n",
       "    <tr>\n",
       "      <th>6</th>\n",
       "      <td>2023-03-31 19:40:00</td>\n",
       "      <td>CSGO</td>\n",
       "      <td>TWITTER</td>\n",
       "      <td>Community Engagement</td>\n",
       "      <td>1882</td>\n",
       "      <td>83</td>\n",
       "      <td>Photo</td>\n",
       "      <td>2023-03-31</td>\n",
       "      <td>19:40:00</td>\n",
       "    </tr>\n",
       "    <tr>\n",
       "      <th>7</th>\n",
       "      <td>2023-03-31 19:23:00</td>\n",
       "      <td>CSGO</td>\n",
       "      <td>TWITTER</td>\n",
       "      <td>Community Engagement</td>\n",
       "      <td>17892</td>\n",
       "      <td>3076</td>\n",
       "      <td>Video</td>\n",
       "      <td>2023-03-31</td>\n",
       "      <td>19:23:00</td>\n",
       "    </tr>\n",
       "    <tr>\n",
       "      <th>9</th>\n",
       "      <td>2023-03-31 18:55:00</td>\n",
       "      <td>CSGO</td>\n",
       "      <td>TWITTER</td>\n",
       "      <td>Community Engagement</td>\n",
       "      <td>13874</td>\n",
       "      <td>1447</td>\n",
       "      <td>Video</td>\n",
       "      <td>2023-03-31</td>\n",
       "      <td>18:55:00</td>\n",
       "    </tr>\n",
       "    <tr>\n",
       "      <th>10</th>\n",
       "      <td>2023-03-31 18:36:00</td>\n",
       "      <td>General</td>\n",
       "      <td>FBPAGE</td>\n",
       "      <td>Community Engagement</td>\n",
       "      <td>37692</td>\n",
       "      <td>8044</td>\n",
       "      <td>Photo</td>\n",
       "      <td>2023-03-31</td>\n",
       "      <td>18:36:00</td>\n",
       "    </tr>\n",
       "  </tbody>\n",
       "</table>\n",
       "</div>"
      ],
      "text/plain": [
       "        Published Date  Account Account Type          Campaign Name  \\\n",
       "4  2023-03-31 19:43:00     CSGO      TWITTER  Community Engagement    \n",
       "6  2023-03-31 19:40:00     CSGO      TWITTER  Community Engagement    \n",
       "7  2023-03-31 19:23:00     CSGO      TWITTER  Community Engagement    \n",
       "9  2023-03-31 18:55:00     CSGO      TWITTER  Community Engagement    \n",
       "10 2023-03-31 18:36:00  General       FBPAGE  Community Engagement    \n",
       "\n",
       "    Total Impressions  Total Engagements Media Type        Date      Time  \n",
       "4                9517               1215      Video  2023-03-31  19:43:00  \n",
       "6                1882                 83      Photo  2023-03-31  19:40:00  \n",
       "7               17892               3076      Video  2023-03-31  19:23:00  \n",
       "9               13874               1447      Video  2023-03-31  18:55:00  \n",
       "10              37692               8044      Photo  2023-03-31  18:36:00  "
      ]
     },
     "execution_count": 18,
     "metadata": {},
     "output_type": "execute_result"
    }
   ],
   "source": [
    "filtered_data.head()"
   ]
  },
  {
   "cell_type": "code",
   "execution_count": 19,
   "id": "abaad5aa-7ee5-416e-8b8f-fd9e93bc700f",
   "metadata": {},
   "outputs": [
    {
     "data": {
      "text/html": [
       "<div>\n",
       "<style scoped>\n",
       "    .dataframe tbody tr th:only-of-type {\n",
       "        vertical-align: middle;\n",
       "    }\n",
       "\n",
       "    .dataframe tbody tr th {\n",
       "        vertical-align: top;\n",
       "    }\n",
       "\n",
       "    .dataframe thead th {\n",
       "        text-align: right;\n",
       "    }\n",
       "</style>\n",
       "<table border=\"1\" class=\"dataframe\">\n",
       "  <thead>\n",
       "    <tr style=\"text-align: right;\">\n",
       "      <th></th>\n",
       "      <th>Total Impressions</th>\n",
       "      <th>Total Engagements</th>\n",
       "    </tr>\n",
       "  </thead>\n",
       "  <tbody>\n",
       "    <tr>\n",
       "      <th>count</th>\n",
       "      <td>1994.000000</td>\n",
       "      <td>1994.000000</td>\n",
       "    </tr>\n",
       "    <tr>\n",
       "      <th>mean</th>\n",
       "      <td>15483.991976</td>\n",
       "      <td>1140.019559</td>\n",
       "    </tr>\n",
       "    <tr>\n",
       "      <th>std</th>\n",
       "      <td>32784.477628</td>\n",
       "      <td>3244.459612</td>\n",
       "    </tr>\n",
       "    <tr>\n",
       "      <th>min</th>\n",
       "      <td>0.000000</td>\n",
       "      <td>0.000000</td>\n",
       "    </tr>\n",
       "    <tr>\n",
       "      <th>25%</th>\n",
       "      <td>1300.250000</td>\n",
       "      <td>18.000000</td>\n",
       "    </tr>\n",
       "    <tr>\n",
       "      <th>50%</th>\n",
       "      <td>6242.500000</td>\n",
       "      <td>110.500000</td>\n",
       "    </tr>\n",
       "    <tr>\n",
       "      <th>75%</th>\n",
       "      <td>18345.000000</td>\n",
       "      <td>516.000000</td>\n",
       "    </tr>\n",
       "    <tr>\n",
       "      <th>max</th>\n",
       "      <td>452337.000000</td>\n",
       "      <td>41102.000000</td>\n",
       "    </tr>\n",
       "  </tbody>\n",
       "</table>\n",
       "</div>"
      ],
      "text/plain": [
       "       Total Impressions  Total Engagements\n",
       "count        1994.000000        1994.000000\n",
       "mean        15483.991976        1140.019559\n",
       "std         32784.477628        3244.459612\n",
       "min             0.000000           0.000000\n",
       "25%          1300.250000          18.000000\n",
       "50%          6242.500000         110.500000\n",
       "75%         18345.000000         516.000000\n",
       "max        452337.000000       41102.000000"
      ]
     },
     "execution_count": 19,
     "metadata": {},
     "output_type": "execute_result"
    }
   ],
   "source": [
    "filtered_data.describe()"
   ]
  },
  {
   "cell_type": "code",
   "execution_count": 20,
   "id": "b9e365ea-87bc-49d1-bf0d-4888d608aa1d",
   "metadata": {},
   "outputs": [
    {
     "name": "stdout",
     "output_type": "stream",
     "text": [
      "Column 'Published Date' has 1453 unique value(s).\n",
      "Column 'Account' has 5 unique value(s).\n",
      "Column 'Account Type' has 6 unique value(s).\n",
      "Column 'Campaign Name' has 3 unique value(s).\n",
      "Column 'Total Impressions' has 1786 unique value(s).\n",
      "Column 'Total Engagements' has 836 unique value(s).\n",
      "Column 'Media Type' has 6 unique value(s).\n",
      "Column 'Date' has 79 unique value(s).\n",
      "Column 'Time' has 658 unique value(s).\n"
     ]
    }
   ],
   "source": [
    "for column in filtered_data.columns:\n",
    "    unique_values = filtered_data[column].nunique()\n",
    "    print(f\"Column '{column}' has {unique_values} unique value(s).\")"
   ]
  },
  {
   "cell_type": "code",
   "execution_count": 21,
   "id": "044101cd-ac93-4aef-a517-e9e574211520",
   "metadata": {},
   "outputs": [],
   "source": [
    "total_impressions = filtered_data['Total Impressions'].sum()\n",
    "total_engagements = filtered_data['Total Engagements'].sum()"
   ]
  },
  {
   "cell_type": "code",
   "execution_count": 24,
   "id": "4798fcbd-2fe9-486a-8e63-1f79a77b9a3e",
   "metadata": {},
   "outputs": [
    {
     "name": "stdout",
     "output_type": "stream",
     "text": [
      "\n",
      "Grouped by Media Type and Campaign Name:\n",
      "                                                   Total Impressions  \\\n",
      "Account Type     Media Type Campaign Name                              \n",
      "FBPAGE           Link       Community Engagement                   0   \n",
      "                            Evil Exhibited                      6416   \n",
      "                 Photo      Community Engagement             6456566   \n",
      "                            Evil Exhibited                    441010   \n",
      "                 Text       Community Engagement              696958   \n",
      "                 Video      Community Engagement             1718706   \n",
      "                            Evergreen                          61643   \n",
      "                            Evil Exhibited                     80454   \n",
      "INSTAGRAM        Carousel   Community Engagement              150663   \n",
      "                            Evil Exhibited                     10026   \n",
      "                 Photo      Community Engagement              940349   \n",
      "                            Evil Exhibited                    185395   \n",
      "                 Video      Community Engagement              448793   \n",
      "                            Evergreen                        1096640   \n",
      "                            Evil Exhibited                    275031   \n",
      "LINKEDIN_COMPANY Link       Community Engagement                3893   \n",
      "                            Evil Exhibited                      3859   \n",
      "                 Photo      Community Engagement               20222   \n",
      "                 Text       Community Engagement                4047   \n",
      "                 Video      Community Engagement                2914   \n",
      "TIKTOK_BUSINESS  Video      Community Engagement               10427   \n",
      "                            Evergreen                         100692   \n",
      "                            Evil Exhibited                    219473   \n",
      "TWITTER          Link       Community Engagement              162253   \n",
      "                            Evil Exhibited                     24469   \n",
      "                 Mixed      Community Engagement               15206   \n",
      "                            Evil Exhibited                     98264   \n",
      "                 Photo      Community Engagement             9037237   \n",
      "                            Evil Exhibited                   2924141   \n",
      "                 Text       Community Engagement             1280811   \n",
      "                            Evil Exhibited                    127487   \n",
      "                 Video      Community Engagement             2824011   \n",
      "                            Evergreen                          52350   \n",
      "                            Evil Exhibited                   1323305   \n",
      "YOUTUBE          Link       Evil Exhibited                         0   \n",
      "                 Text       Community Engagement                   0   \n",
      "                            Evil Exhibited                         0   \n",
      "                 Video      Community Engagement               30700   \n",
      "                            Evergreen                          17404   \n",
      "                            Evil Exhibited                     23265   \n",
      "\n",
      "                                                   Total Engagements  \n",
      "Account Type     Media Type Campaign Name                             \n",
      "FBPAGE           Link       Community Engagement                   0  \n",
      "                            Evil Exhibited                        52  \n",
      "                 Photo      Community Engagement             1234495  \n",
      "                            Evil Exhibited                     14559  \n",
      "                 Text       Community Engagement              110032  \n",
      "                 Video      Community Engagement              287023  \n",
      "                            Evergreen                           8074  \n",
      "                            Evil Exhibited                      4125  \n",
      "INSTAGRAM        Carousel   Community Engagement                6418  \n",
      "                            Evil Exhibited                       123  \n",
      "                 Photo      Community Engagement               36647  \n",
      "                            Evil Exhibited                      2155  \n",
      "                 Video      Community Engagement                9737  \n",
      "                            Evergreen                          21769  \n",
      "                            Evil Exhibited                      3429  \n",
      "LINKEDIN_COMPANY Link       Community Engagement                  70  \n",
      "                            Evil Exhibited                       124  \n",
      "                 Photo      Community Engagement                 419  \n",
      "                 Text       Community Engagement                  37  \n",
      "                 Video      Community Engagement                  71  \n",
      "TIKTOK_BUSINESS  Video      Community Engagement                 610  \n",
      "                            Evergreen                           6463  \n",
      "                            Evil Exhibited                     10580  \n",
      "TWITTER          Link       Community Engagement                 917  \n",
      "                            Evil Exhibited                       449  \n",
      "                 Mixed      Community Engagement                1234  \n",
      "                            Evil Exhibited                      7122  \n",
      "                 Photo      Community Engagement              206425  \n",
      "                            Evil Exhibited                     69461  \n",
      "                 Text       Community Engagement               23743  \n",
      "                            Evil Exhibited                      4043  \n",
      "                 Video      Community Engagement              125623  \n",
      "                            Evergreen                           6162  \n",
      "                            Evil Exhibited                     68176  \n",
      "YOUTUBE          Link       Evil Exhibited                         0  \n",
      "                 Text       Community Engagement                   0  \n",
      "                            Evil Exhibited                         0  \n",
      "                 Video      Community Engagement                1266  \n",
      "                            Evergreen                            659  \n",
      "                            Evil Exhibited                       907  \n"
     ]
    },
    {
     "name": "stderr",
     "output_type": "stream",
     "text": [
      "/tmp/ipykernel_56789/336351634.py:2: FutureWarning: The default value of numeric_only in DataFrameGroupBy.sum is deprecated. In a future version, numeric_only will default to False. Either specify numeric_only or select only columns which should be valid for the function.\n",
      "  grouped_by_both = filtered_data.groupby(['Account Type', 'Media Type', 'Campaign Name']).sum()\n"
     ]
    }
   ],
   "source": [
    "# Group by Media Type and Campaign Name together\n",
    "grouped_by_both = filtered_data.groupby(['Account Type', 'Media Type', 'Campaign Name']).sum()\n",
    "print(\"\\nGrouped by Media Type and Campaign Name:\")\n",
    "print(grouped_by_both[['Total Impressions', 'Total Engagements']])"
   ]
  },
  {
   "cell_type": "code",
   "execution_count": 25,
   "id": "35498cc5-bd83-4b2b-bdc6-b33d83ca5a7b",
   "metadata": {},
   "outputs": [
    {
     "data": {
      "image/png": "[encoded data removed]",
      "text/plain": [
       "<Figure size 640x480 with 1 Axes>"
      ]
     },
     "metadata": {},
     "output_type": "display_data"
    }
   ],
   "source": [
    "# Plotting the distribution of engagements\n",
    "plt.hist(filtered_data['Total Engagements'], bins=10)\n",
    "plt.xlabel('Engagements')\n",
    "plt.ylabel('Count')\n",
    "plt.title('Distribution of Engagements')\n",
    "plt.show()"
   ]
  },
  {
   "cell_type": "code",
   "execution_count": 26,
   "id": "1215c39c-fab5-4a2c-89e0-0edee773eda8",
   "metadata": {},
   "outputs": [
    {
     "data": {
      "image/png": "[encoded data removed]",
      "text/plain": [
       "<Figure size 640x480 with 1 Axes>"
      ]
     },
     "metadata": {},
     "output_type": "display_data"
    }
   ],
   "source": [
    "# Plotting the distribution of impressions\n",
    "plt.hist(filtered_data['Total Impressions'], bins=10)\n",
    "plt.xlabel('Impressions')\n",
    "plt.ylabel('Count')\n",
    "plt.title('Distribution of Impressions')\n",
    "plt.show()"
   ]
  },
  {
   "cell_type": "code",
   "execution_count": 27,
   "id": "c53d2139-0fdd-4492-bcf7-018891b43da9",
   "metadata": {},
   "outputs": [
    {
     "name": "stderr",
     "output_type": "stream",
     "text": [
      "/tmp/ipykernel_56789/2293447970.py:2: SettingWithCopyWarning: \n",
      "A value is trying to be set on a copy of a slice from a DataFrame.\n",
      "Try using .loc[row_indexer,col_indexer] = value instead\n",
      "\n",
      "See the caveats in the documentation: https://pandas.pydata.org/pandas-docs/stable/user_guide/indexing.html#returning-a-view-versus-a-copy\n",
      "  filtered_data['Engagements_log'] = np.log1p(filtered_data['Total Engagements'])\n",
      "/tmp/ipykernel_56789/2293447970.py:3: SettingWithCopyWarning: \n",
      "A value is trying to be set on a copy of a slice from a DataFrame.\n",
      "Try using .loc[row_indexer,col_indexer] = value instead\n",
      "\n",
      "See the caveats in the documentation: https://pandas.pydata.org/pandas-docs/stable/user_guide/indexing.html#returning-a-view-versus-a-copy\n",
      "  filtered_data['Impressions_log'] = np.log1p(filtered_data['Total Impressions'])\n"
     ]
    }
   ],
   "source": [
    "# Log transformation of engagements and impressions\n",
    "filtered_data['Engagements_log'] = np.log1p(filtered_data['Total Engagements'])\n",
    "filtered_data['Impressions_log'] = np.log1p(filtered_data['Total Impressions'])"
   ]
  },
  {
   "cell_type": "code",
   "execution_count": 28,
   "id": "ce30b9aa-f735-4bdc-882f-be56a0d83f30",
   "metadata": {},
   "outputs": [
    {
     "data": {
      "image/png": "[encoded data removed]",
      "text/plain": [
       "<Figure size 640x480 with 1 Axes>"
      ]
     },
     "metadata": {},
     "output_type": "display_data"
    }
   ],
   "source": [
    "# Plotting the log-transformed distributions\n",
    "plt.hist(filtered_data['Engagements_log'], bins=10)\n",
    "plt.xlabel('Log-transformed Engagements')\n",
    "plt.ylabel('Count')\n",
    "plt.title('Distribution of Log-transformed Engagements')\n",
    "plt.show()"
   ]
  },
  {
   "cell_type": "code",
   "execution_count": 29,
   "id": "a41ffb9f-a898-4be9-a11a-83d9bf02847f",
   "metadata": {},
   "outputs": [
    {
     "data": {
      "image/png": "[encoded data removed]",
      "text/plain": [
       "<Figure size 640x480 with 1 Axes>"
      ]
     },
     "metadata": {},
     "output_type": "display_data"
    }
   ],
   "source": [
    "plt.hist(filtered_data['Impressions_log'], bins=10)\n",
    "plt.xlabel('Log-transformed Impressions')\n",
    "plt.ylabel('Count')\n",
    "plt.title('Distribution of Log-transformed Impressions')\n",
    "plt.show()"
   ]
  },
  {
   "cell_type": "code",
   "execution_count": 30,
   "id": "a60d0bd8-2bb3-486f-b323-1e7b3fb851c6",
   "metadata": {},
   "outputs": [
    {
     "name": "stderr",
     "output_type": "stream",
     "text": [
      "/tmp/ipykernel_56789/4252004082.py:1: SettingWithCopyWarning: \n",
      "A value is trying to be set on a copy of a slice from a DataFrame.\n",
      "Try using .loc[row_indexer,col_indexer] = value instead\n",
      "\n",
      "See the caveats in the documentation: https://pandas.pydata.org/pandas-docs/stable/user_guide/indexing.html#returning-a-view-versus-a-copy\n",
      "  filtered_data['Engagement Rate'] = (filtered_data['Total Engagements'] / filtered_data['Total Impressions']) * 100\n",
      "/tmp/ipykernel_56789/4252004082.py:2: SettingWithCopyWarning: \n",
      "A value is trying to be set on a copy of a slice from a DataFrame.\n",
      "Try using .loc[row_indexer,col_indexer] = value instead\n",
      "\n",
      "See the caveats in the documentation: https://pandas.pydata.org/pandas-docs/stable/user_guide/indexing.html#returning-a-view-versus-a-copy\n",
      "  filtered_data['Engagement Rate Log'] = (filtered_data['Engagements_log'] / filtered_data['Impressions_log']) * 100\n"
     ]
    }
   ],
   "source": [
    "filtered_data['Engagement Rate'] = (filtered_data['Total Engagements'] / filtered_data['Total Impressions']) * 100\n",
    "filtered_data['Engagement Rate Log'] = (filtered_data['Engagements_log'] / filtered_data['Impressions_log']) * 100"
   ]
  },
  {
   "cell_type": "code",
   "execution_count": 31,
   "id": "03c04242-5e94-4435-a8dc-b2e43e18e10f",
   "metadata": {},
   "outputs": [
    {
     "data": {
      "text/html": [
       "<div>\n",
       "<style scoped>\n",
       "    .dataframe tbody tr th:only-of-type {\n",
       "        vertical-align: middle;\n",
       "    }\n",
       "\n",
       "    .dataframe tbody tr th {\n",
       "        vertical-align: top;\n",
       "    }\n",
       "\n",
       "    .dataframe thead th {\n",
       "        text-align: right;\n",
       "    }\n",
       "</style>\n",
       "<table border=\"1\" class=\"dataframe\">\n",
       "  <thead>\n",
       "    <tr style=\"text-align: right;\">\n",
       "      <th></th>\n",
       "      <th>Published Date</th>\n",
       "      <th>Account</th>\n",
       "      <th>Account Type</th>\n",
       "      <th>Campaign Name</th>\n",
       "      <th>Total Impressions</th>\n",
       "      <th>Total Engagements</th>\n",
       "      <th>Media Type</th>\n",
       "      <th>Date</th>\n",
       "      <th>Time</th>\n",
       "      <th>Engagements_log</th>\n",
       "      <th>Impressions_log</th>\n",
       "      <th>Engagement Rate</th>\n",
       "      <th>Engagement Rate Log</th>\n",
       "    </tr>\n",
       "  </thead>\n",
       "  <tbody>\n",
       "    <tr>\n",
       "      <th>4</th>\n",
       "      <td>2023-03-31 19:43:00</td>\n",
       "      <td>CSGO</td>\n",
       "      <td>TWITTER</td>\n",
       "      <td>Community Engagement</td>\n",
       "      <td>9517</td>\n",
       "      <td>1215</td>\n",
       "      <td>Video</td>\n",
       "      <td>2023-03-31</td>\n",
       "      <td>19:43:00</td>\n",
       "      <td>7.103322</td>\n",
       "      <td>9.160940</td>\n",
       "      <td>12.766628</td>\n",
       "      <td>77.539227</td>\n",
       "    </tr>\n",
       "    <tr>\n",
       "      <th>6</th>\n",
       "      <td>2023-03-31 19:40:00</td>\n",
       "      <td>CSGO</td>\n",
       "      <td>TWITTER</td>\n",
       "      <td>Community Engagement</td>\n",
       "      <td>1882</td>\n",
       "      <td>83</td>\n",
       "      <td>Photo</td>\n",
       "      <td>2023-03-31</td>\n",
       "      <td>19:40:00</td>\n",
       "      <td>4.430817</td>\n",
       "      <td>7.540622</td>\n",
       "      <td>4.410202</td>\n",
       "      <td>58.759305</td>\n",
       "    </tr>\n",
       "    <tr>\n",
       "      <th>7</th>\n",
       "      <td>2023-03-31 19:23:00</td>\n",
       "      <td>CSGO</td>\n",
       "      <td>TWITTER</td>\n",
       "      <td>Community Engagement</td>\n",
       "      <td>17892</td>\n",
       "      <td>3076</td>\n",
       "      <td>Video</td>\n",
       "      <td>2023-03-31</td>\n",
       "      <td>19:23:00</td>\n",
       "      <td>8.031710</td>\n",
       "      <td>9.792165</td>\n",
       "      <td>17.192041</td>\n",
       "      <td>82.021805</td>\n",
       "    </tr>\n",
       "    <tr>\n",
       "      <th>9</th>\n",
       "      <td>2023-03-31 18:55:00</td>\n",
       "      <td>CSGO</td>\n",
       "      <td>TWITTER</td>\n",
       "      <td>Community Engagement</td>\n",
       "      <td>13874</td>\n",
       "      <td>1447</td>\n",
       "      <td>Video</td>\n",
       "      <td>2023-03-31</td>\n",
       "      <td>18:55:00</td>\n",
       "      <td>7.277939</td>\n",
       "      <td>9.537844</td>\n",
       "      <td>10.429581</td>\n",
       "      <td>76.305910</td>\n",
       "    </tr>\n",
       "    <tr>\n",
       "      <th>10</th>\n",
       "      <td>2023-03-31 18:36:00</td>\n",
       "      <td>General</td>\n",
       "      <td>FBPAGE</td>\n",
       "      <td>Community Engagement</td>\n",
       "      <td>37692</td>\n",
       "      <td>8044</td>\n",
       "      <td>Photo</td>\n",
       "      <td>2023-03-31</td>\n",
       "      <td>18:36:00</td>\n",
       "      <td>8.992806</td>\n",
       "      <td>10.537230</td>\n",
       "      <td>21.341399</td>\n",
       "      <td>85.343172</td>\n",
       "    </tr>\n",
       "  </tbody>\n",
       "</table>\n",
       "</div>"
      ],
      "text/plain": [
       "        Published Date  Account Account Type          Campaign Name  \\\n",
       "4  2023-03-31 19:43:00     CSGO      TWITTER  Community Engagement    \n",
       "6  2023-03-31 19:40:00     CSGO      TWITTER  Community Engagement    \n",
       "7  2023-03-31 19:23:00     CSGO      TWITTER  Community Engagement    \n",
       "9  2023-03-31 18:55:00     CSGO      TWITTER  Community Engagement    \n",
       "10 2023-03-31 18:36:00  General       FBPAGE  Community Engagement    \n",
       "\n",
       "    Total Impressions  Total Engagements Media Type        Date      Time  \\\n",
       "4                9517               1215      Video  2023-03-31  19:43:00   \n",
       "6                1882                 83      Photo  2023-03-31  19:40:00   \n",
       "7               17892               3076      Video  2023-03-31  19:23:00   \n",
       "9               13874               1447      Video  2023-03-31  18:55:00   \n",
       "10              37692               8044      Photo  2023-03-31  18:36:00   \n",
       "\n",
       "    Engagements_log  Impressions_log  Engagement Rate  Engagement Rate Log  \n",
       "4          7.103322         9.160940        12.766628            77.539227  \n",
       "6          4.430817         7.540622         4.410202            58.759305  \n",
       "7          8.031710         9.792165        17.192041            82.021805  \n",
       "9          7.277939         9.537844        10.429581            76.305910  \n",
       "10         8.992806        10.537230        21.341399            85.343172  "
      ]
     },
     "execution_count": 31,
     "metadata": {},
     "output_type": "execute_result"
    }
   ],
   "source": [
    "filtered_data.head()"
   ]
  },
  {
   "cell_type": "markdown",
   "id": "e7625526-8c7e-4b23-a6de-73b14b81d352",
   "metadata": {},
   "source": [
    "# Question 1 - What is the typical engagement rate we can expect? What’s the likelihood that we can achieve a 15% engagement rate?"
   ]
  },
  {
   "cell_type": "code",
   "execution_count": 32,
   "id": "2c0b22b0-71f1-4ee5-b448-4d6c1116454a",
   "metadata": {},
   "outputs": [],
   "source": [
    "data_er_at = filtered_data.groupby('Account Type')['Engagement Rate'].mean()"
   ]
  },
  {
   "cell_type": "code",
   "execution_count": 33,
   "id": "63118386-4517-441d-955c-c30dcb3215f8",
   "metadata": {},
   "outputs": [
    {
     "data": {
      "text/plain": [
       "Account Type\n",
       "FBPAGE              14.605891\n",
       "INSTAGRAM            1.228905\n",
       "LINKEDIN_COMPANY     1.931654\n",
       "TIKTOK_BUSINESS      4.805182\n",
       "TWITTER              3.385004\n",
       "YOUTUBE              5.306207\n",
       "Name: Engagement Rate, dtype: float64"
      ]
     },
     "execution_count": 33,
     "metadata": {},
     "output_type": "execute_result"
    }
   ],
   "source": [
    "data_er_at"
   ]
  },
  {
   "cell_type": "code",
   "execution_count": 34,
   "id": "693eefe1-069c-428b-ac81-a1e3711de413",
   "metadata": {},
   "outputs": [
    {
     "data": {
      "text/plain": [
       "Account Type      Campaign Name        \n",
       "FBPAGE            Community Engagement     15.992891\n",
       "                  Evergreen                13.098000\n",
       "                  Evil Exhibited            3.513447\n",
       "INSTAGRAM         Community Engagement      1.208653\n",
       "                  Evergreen                 1.744471\n",
       "                  Evil Exhibited            0.815349\n",
       "LINKEDIN_COMPANY  Community Engagement      1.860454\n",
       "                  Evil Exhibited            3.213268\n",
       "TIKTOK_BUSINESS   Community Engagement      6.422724\n",
       "                  Evergreen                 4.832811\n",
       "                  Evil Exhibited            3.770242\n",
       "TWITTER           Community Engagement      3.476648\n",
       "                  Evergreen                11.770774\n",
       "                  Evil Exhibited            2.987679\n",
       "YOUTUBE           Community Engagement      8.240741\n",
       "                  Evergreen                 3.881755\n",
       "                  Evil Exhibited            5.023604\n",
       "Name: Engagement Rate, dtype: float64"
      ]
     },
     "execution_count": 34,
     "metadata": {},
     "output_type": "execute_result"
    }
   ],
   "source": [
    "data_er_at_cm = filtered_data.groupby(['Account Type', 'Campaign Name'])['Engagement Rate'].mean()\n",
    "data_er_at_cm"
   ]
  },
  {
   "cell_type": "markdown",
   "id": "85e22956-500a-46f3-9748-b04e3dbe3ccf",
   "metadata": {},
   "source": [
    "# Question 2 - Does day of the week and time of posting affect engagement rates?"
   ]
  },
  {
   "cell_type": "code",
   "execution_count": 35,
   "id": "f639de81-af38-42c1-8a56-fb57f65f02b3",
   "metadata": {},
   "outputs": [
    {
     "name": "stderr",
     "output_type": "stream",
     "text": [
      "/tmp/ipykernel_56789/548829108.py:1: SettingWithCopyWarning: \n",
      "A value is trying to be set on a copy of a slice from a DataFrame.\n",
      "Try using .loc[row_indexer,col_indexer] = value instead\n",
      "\n",
      "See the caveats in the documentation: https://pandas.pydata.org/pandas-docs/stable/user_guide/indexing.html#returning-a-view-versus-a-copy\n",
      "  filtered_data['Day of Week'] = filtered_data['Published Date'].dt.day_name()\n",
      "/tmp/ipykernel_56789/548829108.py:2: SettingWithCopyWarning: \n",
      "A value is trying to be set on a copy of a slice from a DataFrame.\n",
      "Try using .loc[row_indexer,col_indexer] = value instead\n",
      "\n",
      "See the caveats in the documentation: https://pandas.pydata.org/pandas-docs/stable/user_guide/indexing.html#returning-a-view-versus-a-copy\n",
      "  filtered_data['Hour of Day'] = filtered_data['Published Date'].dt.hour\n"
     ]
    }
   ],
   "source": [
    "filtered_data['Day of Week'] = filtered_data['Published Date'].dt.day_name()\n",
    "filtered_data['Hour of Day'] = filtered_data['Published Date'].dt.hour"
   ]
  },
  {
   "cell_type": "code",
   "execution_count": 36,
   "id": "b895cf9e-8612-4d4a-b8ff-2d8c78d306d0",
   "metadata": {},
   "outputs": [],
   "source": [
    "engagement_by_day = filtered_data.groupby('Day of Week')['Total Engagements'].mean()\n",
    "\n",
    "engagement_by_hour = filtered_data.groupby('Hour of Day')['Total Engagements'].mean()"
   ]
  },
  {
   "cell_type": "code",
   "execution_count": 37,
   "id": "3fd57b54-3a30-47c8-b730-631c199d3bec",
   "metadata": {},
   "outputs": [
    {
     "data": {
      "text/plain": [
       "Day of Week\n",
       "Friday       1352.128146\n",
       "Monday        798.360000\n",
       "Saturday      650.410377\n",
       "Sunday       1255.088757\n",
       "Thursday      935.625000\n",
       "Tuesday      1537.257962\n",
       "Wednesday    1110.327536\n",
       "Name: Total Engagements, dtype: float64"
      ]
     },
     "execution_count": 37,
     "metadata": {},
     "output_type": "execute_result"
    }
   ],
   "source": [
    "engagement_by_day"
   ]
  },
  {
   "cell_type": "code",
   "execution_count": 38,
   "id": "e6a44eb6-7efe-4e6a-b07e-9ef23ef21f97",
   "metadata": {},
   "outputs": [
    {
     "data": {
      "image/png": "[encoded data removed]",
      "text/plain": [
       "<Figure size 1000x600 with 1 Axes>"
      ]
     },
     "metadata": {},
     "output_type": "display_data"
    }
   ],
   "source": [
    "# Create a time series plot\n",
    "plt.figure(figsize=(10, 6))\n",
    "engagement_by_day.plot()\n",
    "plt.xlabel('Hour of the Day')\n",
    "plt.ylabel('Average Engagements')\n",
    "plt.title('Average Engagements by Hour of the Day')\n",
    "plt.grid(True)\n",
    "plt.show()"
   ]
  },
  {
   "cell_type": "code",
   "execution_count": 39,
   "id": "deb35f5c-dcec-4720-943a-27c783bad55d",
   "metadata": {},
   "outputs": [
    {
     "data": {
      "image/png": "[encoded data removed]",
      "text/plain": [
       "<Figure size 1000x600 with 1 Axes>"
      ]
     },
     "metadata": {},
     "output_type": "display_data"
    }
   ],
   "source": [
    "# Create a time series plot\n",
    "plt.figure(figsize=(10, 6))\n",
    "engagement_by_hour.plot()\n",
    "plt.xlabel('Hour of the Day')\n",
    "plt.ylabel('Average Engagements')\n",
    "plt.title('Average Engagements by Hour of the Day')\n",
    "plt.grid(True)\n",
    "plt.show()"
   ]
  },
  {
   "cell_type": "markdown",
   "id": "68e23ee0-f725-4c2a-971b-f0ef7035ba71",
   "metadata": {},
   "source": [
    "# Question 3 -  How are our game titles doing in terms of social performance? Is there a specific game"
   ]
  },
  {
   "cell_type": "code",
   "execution_count": 40,
   "id": "e50e1314-e781-4a46-990a-4bb9ef3bf174",
   "metadata": {},
   "outputs": [
    {
     "name": "stdout",
     "output_type": "stream",
     "text": [
      "\n",
      "Grouped by Account:\n",
      "Account\n",
      "CSGO                 3.798739\n",
      "Content Creators    18.670179\n",
      "DOTA2                5.212327\n",
      "General              5.030611\n",
      "Valorant             5.374779\n",
      "Name: Engagement Rate, dtype: float64\n"
     ]
    },
    {
     "name": "stderr",
     "output_type": "stream",
     "text": [
      "/tmp/ipykernel_56789/138766022.py:1: FutureWarning: The default value of numeric_only in DataFrameGroupBy.mean is deprecated. In a future version, numeric_only will default to False. Either specify numeric_only or select only columns which should be valid for the function.\n",
      "  grouped_by_account = filtered_data.groupby('Account').mean()\n"
     ]
    }
   ],
   "source": [
    "grouped_by_account = filtered_data.groupby('Account').mean()\n",
    "print(\"\\nGrouped by Account:\")\n",
    "print(grouped_by_account['Engagement Rate'])"
   ]
  },
  {
   "cell_type": "markdown",
   "id": "11419681-3d87-4f71-96c0-1b0ab3e8dc41",
   "metadata": {},
   "source": [
    "# Question 4 - What media type performs the best?"
   ]
  },
  {
   "cell_type": "code",
   "execution_count": 41,
   "id": "6b909855-5bef-435e-85b3-3be50141c8ec",
   "metadata": {},
   "outputs": [
    {
     "name": "stdout",
     "output_type": "stream",
     "text": [
      "Grouped by Media Type:\n",
      "            Total Impressions  Total Engagements  Engagement Rate\n",
      "Media Type                                                       \n",
      "Carousel         17854.333333         726.777778         3.784294\n",
      "Link              6277.812500          50.375000         0.935904\n",
      "Mixed            37823.333333        2785.333333        10.724648\n",
      "Photo            20969.517820        1639.581761         5.354994\n",
      "Text              6826.223301         446.132686         3.960105\n",
      "Video            12060.855895         807.385735         5.050341\n"
     ]
    },
    {
     "name": "stderr",
     "output_type": "stream",
     "text": [
      "/tmp/ipykernel_56789/3073886929.py:1: FutureWarning: The default value of numeric_only in DataFrameGroupBy.mean is deprecated. In a future version, numeric_only will default to False. Either specify numeric_only or select only columns which should be valid for the function.\n",
      "  grouped_by_media_type = filtered_data.groupby('Media Type').mean()\n"
     ]
    }
   ],
   "source": [
    "grouped_by_media_type = filtered_data.groupby('Media Type').mean()\n",
    "print(\"Grouped by Media Type:\")\n",
    "print(grouped_by_media_type[['Total Impressions', 'Total Engagements', 'Engagement Rate']])"
   ]
  },
  {
   "cell_type": "markdown",
   "id": "88825bae-062e-4750-aef2-75cd75b9c5c8",
   "metadata": {},
   "source": [
    "# Question 5 - What is our best performing campaign?"
   ]
  },
  {
   "cell_type": "code",
   "execution_count": 44,
   "id": "dd757980-af67-42d1-bf6b-40451e819080",
   "metadata": {},
   "outputs": [
    {
     "name": "stdout",
     "output_type": "stream",
     "text": [
      "\n",
      "Grouped by Campaign Name:\n",
      "                       Total Impressions  Total Engagements  Engagement Rate\n",
      "Campaign Name                                                               \n",
      "Community Engagement        16870.131821        1449.161588         5.765298\n",
      "Evergreen                    8151.711656         264.582822         3.510548\n",
      "Evil Exhibited              13672.845238         441.202381         2.866060\n"
     ]
    },
    {
     "name": "stderr",
     "output_type": "stream",
     "text": [
      "/tmp/ipykernel_56789/135594761.py:2: FutureWarning: The default value of numeric_only in DataFrameGroupBy.mean is deprecated. In a future version, numeric_only will default to False. Either specify numeric_only or select only columns which should be valid for the function.\n",
      "  grouped_by_campaign_name = filtered_data.groupby('Campaign Name').mean()\n"
     ]
    }
   ],
   "source": [
    "# Group by Campaign Name\n",
    "grouped_by_campaign_name = filtered_data.groupby('Campaign Name').mean()\n",
    "print(\"\\nGrouped by Campaign Name:\")\n",
    "print(grouped_by_campaign_name[['Total Impressions', 'Total Engagements', 'Engagement Rate']])"
   ]
  },
  {
   "cell_type": "markdown",
   "id": "b02abb8b-a6b7-4e80-aed3-cd13e0d05b71",
   "metadata": {},
   "source": [
    "# Question 6 - Define out a posting strategy for our social channels based on your discoveries."
   ]
  },
  {
   "cell_type": "markdown",
   "id": "aeadd8ce-1091-470f-870d-38e425611f20",
   "metadata": {},
   "source": [
    "# Question - 7 What suggestions would you give to the social media team if they want to expand their presence (e.g. if our CSGO youtube channel is doing well should we expand to TikTok)?"
   ]
  },
  {
   "cell_type": "code",
   "execution_count": null,
   "id": "dce1330c-2118-4f20-afb8-b0b269c8af01",
   "metadata": {},
   "outputs": [],
   "source": []
  },
  {
   "cell_type": "code",
   "execution_count": null,
   "id": "f8fb5c81-39f2-4433-ba92-75a5894bb7d5",
   "metadata": {},
   "outputs": [],
   "source": []
  },
  {
   "cell_type": "code",
   "execution_count": null,
   "id": "2912c590-f1e6-4359-af0a-7ba5cef9fe06",
   "metadata": {},
   "outputs": [],
   "source": []
  }
 ],
 "metadata": {
  "kernelspec": {
   "display_name": "Python 3 (ipykernel)",
   "language": "python",
   "name": "python3"
  },
  "language_info": {
   "codemirror_mode": {
    "name": "ipython",
    "version": 3
   },
   "file_extension": ".py",
   "mimetype": "text/x-python",
   "name": "python",
   "nbconvert_exporter": "python",
   "pygments_lexer": "ipython3",
   "version": "3.10.8"
  }
 },
 "nbformat": 4,
 "nbformat_minor": 5
}
