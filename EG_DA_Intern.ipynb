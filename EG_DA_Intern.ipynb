{
 "cells": [
  {
   "cell_type": "code",
   "execution_count": 1,
   "id": "16578510-648d-4dcb-87cc-d80a80c3218c",
   "metadata": {},
   "outputs": [],
   "source": [
    "import seaborn as sns\n",
    "import pandas as pd\n",
    "import matplotlib.pyplot as plt\n",
    "import numpy as np\n",
    "import pyrsm as rsm\n",
    "from datetime import timedelta\n",
    "from datetime import datetime\n",
    "\n",
    "\n",
    "data = pd.read_csv('DA/social_data.xlsx - Data.csv')"
   ]
  },
  {
   "cell_type": "code",
   "execution_count": 2,
   "id": "419a1ef1-7225-460e-8a24-9b7f171e4f24",
   "metadata": {},
   "outputs": [
    {
     "data": {
      "text/html": [
       "<div>\n",
       "<style scoped>\n",
       "    .dataframe tbody tr th:only-of-type {\n",
       "        vertical-align: middle;\n",
       "    }\n",
       "\n",
       "    .dataframe tbody tr th {\n",
       "        vertical-align: top;\n",
       "    }\n",
       "\n",
       "    .dataframe thead th {\n",
       "        text-align: right;\n",
       "    }\n",
       "</style>\n",
       "<table border=\"1\" class=\"dataframe\">\n",
       "  <thead>\n",
       "    <tr style=\"text-align: right;\">\n",
       "      <th></th>\n",
       "      <th>Published Date</th>\n",
       "      <th>Account</th>\n",
       "      <th>Account Type</th>\n",
       "      <th>Campaign Name</th>\n",
       "      <th>Total Impressions</th>\n",
       "      <th>Total Engagements</th>\n",
       "      <th>Media Type</th>\n",
       "    </tr>\n",
       "  </thead>\n",
       "  <tbody>\n",
       "    <tr>\n",
       "      <th>0</th>\n",
       "      <td>03-31-2023 19:55</td>\n",
       "      <td>CSGO</td>\n",
       "      <td>TWITTER</td>\n",
       "      <td>N/A</td>\n",
       "      <td>0</td>\n",
       "      <td>0</td>\n",
       "      <td>Text</td>\n",
       "    </tr>\n",
       "    <tr>\n",
       "      <th>1</th>\n",
       "      <td>03-31-2023 19:49</td>\n",
       "      <td>CSGO</td>\n",
       "      <td>TWITTER</td>\n",
       "      <td>N/A</td>\n",
       "      <td>0</td>\n",
       "      <td>0</td>\n",
       "      <td>Text</td>\n",
       "    </tr>\n",
       "    <tr>\n",
       "      <th>2</th>\n",
       "      <td>03-31-2023 19:49</td>\n",
       "      <td>CSGO</td>\n",
       "      <td>TWITTER</td>\n",
       "      <td>N/A</td>\n",
       "      <td>0</td>\n",
       "      <td>0</td>\n",
       "      <td>Text</td>\n",
       "    </tr>\n",
       "    <tr>\n",
       "      <th>3</th>\n",
       "      <td>03-31-2023 19:49</td>\n",
       "      <td>CSGO</td>\n",
       "      <td>TWITTER</td>\n",
       "      <td>N/A</td>\n",
       "      <td>0</td>\n",
       "      <td>0</td>\n",
       "      <td>Text</td>\n",
       "    </tr>\n",
       "    <tr>\n",
       "      <th>4</th>\n",
       "      <td>03-31-2023 19:43</td>\n",
       "      <td>CSGO</td>\n",
       "      <td>TWITTER</td>\n",
       "      <td>Community Engagement</td>\n",
       "      <td>9517</td>\n",
       "      <td>1215</td>\n",
       "      <td>Video</td>\n",
       "    </tr>\n",
       "    <tr>\n",
       "      <th>5</th>\n",
       "      <td>03-31-2023 19:42</td>\n",
       "      <td>CSGO</td>\n",
       "      <td>TWITTER</td>\n",
       "      <td>N/A</td>\n",
       "      <td>0</td>\n",
       "      <td>0</td>\n",
       "      <td>Photo</td>\n",
       "    </tr>\n",
       "    <tr>\n",
       "      <th>6</th>\n",
       "      <td>03-31-2023 19:40</td>\n",
       "      <td>CSGO</td>\n",
       "      <td>TWITTER</td>\n",
       "      <td>Community Engagement</td>\n",
       "      <td>1882</td>\n",
       "      <td>83</td>\n",
       "      <td>Photo</td>\n",
       "    </tr>\n",
       "    <tr>\n",
       "      <th>7</th>\n",
       "      <td>03-31-2023 19:23</td>\n",
       "      <td>CSGO</td>\n",
       "      <td>TWITTER</td>\n",
       "      <td>Community Engagement</td>\n",
       "      <td>17892</td>\n",
       "      <td>3076</td>\n",
       "      <td>Video</td>\n",
       "    </tr>\n",
       "    <tr>\n",
       "      <th>8</th>\n",
       "      <td>03-31-2023 19:15</td>\n",
       "      <td>CSGO</td>\n",
       "      <td>TWITTER</td>\n",
       "      <td>N/A</td>\n",
       "      <td>0</td>\n",
       "      <td>0</td>\n",
       "      <td>Video</td>\n",
       "    </tr>\n",
       "    <tr>\n",
       "      <th>9</th>\n",
       "      <td>03-31-2023 18:55</td>\n",
       "      <td>CSGO</td>\n",
       "      <td>TWITTER</td>\n",
       "      <td>Community Engagement</td>\n",
       "      <td>13874</td>\n",
       "      <td>1447</td>\n",
       "      <td>Video</td>\n",
       "    </tr>\n",
       "  </tbody>\n",
       "</table>\n",
       "</div>"
      ],
      "text/plain": [
       "     Published Date Account Account Type          Campaign Name  \\\n",
       "0  03-31-2023 19:55    CSGO      TWITTER                   N/A    \n",
       "1  03-31-2023 19:49    CSGO      TWITTER                   N/A    \n",
       "2  03-31-2023 19:49    CSGO      TWITTER                   N/A    \n",
       "3  03-31-2023 19:49    CSGO      TWITTER                   N/A    \n",
       "4  03-31-2023 19:43    CSGO      TWITTER  Community Engagement    \n",
       "5  03-31-2023 19:42    CSGO      TWITTER                   N/A    \n",
       "6  03-31-2023 19:40    CSGO      TWITTER  Community Engagement    \n",
       "7  03-31-2023 19:23    CSGO      TWITTER  Community Engagement    \n",
       "8  03-31-2023 19:15    CSGO      TWITTER                   N/A    \n",
       "9  03-31-2023 18:55    CSGO      TWITTER  Community Engagement    \n",
       "\n",
       "   Total Impressions  Total Engagements Media Type  \n",
       "0                  0                  0       Text  \n",
       "1                  0                  0       Text  \n",
       "2                  0                  0       Text  \n",
       "3                  0                  0       Text  \n",
       "4               9517               1215      Video  \n",
       "5                  0                  0      Photo  \n",
       "6               1882                 83      Photo  \n",
       "7              17892               3076      Video  \n",
       "8                  0                  0      Video  \n",
       "9              13874               1447      Video  "
      ]
     },
     "execution_count": 2,
     "metadata": {},
     "output_type": "execute_result"
    }
   ],
   "source": [
    "data.head(10)"
   ]
  },
  {
   "cell_type": "markdown",
   "id": "f0b78a7a-9525-42b0-a385-40a402ef1eeb",
   "metadata": {},
   "source": [
    "# Data Cleaning and Exploration"
   ]
  },
  {
   "cell_type": "code",
   "execution_count": 3,
   "id": "1509b46c-3a15-4136-89ca-7fdc8209dfef",
   "metadata": {},
   "outputs": [
    {
     "data": {
      "text/plain": [
       "(3479, 7)"
      ]
     },
     "execution_count": 3,
     "metadata": {},
     "output_type": "execute_result"
    }
   ],
   "source": [
    "data.shape"
   ]
  },
  {
   "cell_type": "code",
   "execution_count": 4,
   "id": "d5ff1945-7b44-40c5-b3b6-25a646287bcb",
   "metadata": {},
   "outputs": [
    {
     "data": {
      "text/html": [
       "<div>\n",
       "<style scoped>\n",
       "    .dataframe tbody tr th:only-of-type {\n",
       "        vertical-align: middle;\n",
       "    }\n",
       "\n",
       "    .dataframe tbody tr th {\n",
       "        vertical-align: top;\n",
       "    }\n",
       "\n",
       "    .dataframe thead th {\n",
       "        text-align: right;\n",
       "    }\n",
       "</style>\n",
       "<table border=\"1\" class=\"dataframe\">\n",
       "  <thead>\n",
       "    <tr style=\"text-align: right;\">\n",
       "      <th></th>\n",
       "      <th>Published Date</th>\n",
       "      <th>Account</th>\n",
       "      <th>Account Type</th>\n",
       "      <th>Campaign Name</th>\n",
       "      <th>Total Impressions</th>\n",
       "      <th>Total Engagements</th>\n",
       "      <th>Media Type</th>\n",
       "    </tr>\n",
       "  </thead>\n",
       "  <tbody>\n",
       "    <tr>\n",
       "      <th>count</th>\n",
       "      <td>3479</td>\n",
       "      <td>3479</td>\n",
       "      <td>3479</td>\n",
       "      <td>3479</td>\n",
       "      <td>3479.000000</td>\n",
       "      <td>3479.000000</td>\n",
       "      <td>3479</td>\n",
       "    </tr>\n",
       "    <tr>\n",
       "      <th>unique</th>\n",
       "      <td>2411</td>\n",
       "      <td>6</td>\n",
       "      <td>6</td>\n",
       "      <td>4</td>\n",
       "      <td>NaN</td>\n",
       "      <td>NaN</td>\n",
       "      <td>7</td>\n",
       "    </tr>\n",
       "    <tr>\n",
       "      <th>top</th>\n",
       "      <td>03-29-2023 13:00</td>\n",
       "      <td>General</td>\n",
       "      <td>TWITTER</td>\n",
       "      <td>N/A</td>\n",
       "      <td>NaN</td>\n",
       "      <td>NaN</td>\n",
       "      <td>Photo</td>\n",
       "    </tr>\n",
       "    <tr>\n",
       "      <th>freq</th>\n",
       "      <td>12</td>\n",
       "      <td>2271</td>\n",
       "      <td>1951</td>\n",
       "      <td>1485</td>\n",
       "      <td>NaN</td>\n",
       "      <td>NaN</td>\n",
       "      <td>1490</td>\n",
       "    </tr>\n",
       "    <tr>\n",
       "      <th>mean</th>\n",
       "      <td>NaN</td>\n",
       "      <td>NaN</td>\n",
       "      <td>NaN</td>\n",
       "      <td>NaN</td>\n",
       "      <td>10972.453579</td>\n",
       "      <td>947.390629</td>\n",
       "      <td>NaN</td>\n",
       "    </tr>\n",
       "    <tr>\n",
       "      <th>std</th>\n",
       "      <td>NaN</td>\n",
       "      <td>NaN</td>\n",
       "      <td>NaN</td>\n",
       "      <td>NaN</td>\n",
       "      <td>29577.108063</td>\n",
       "      <td>3468.628038</td>\n",
       "      <td>NaN</td>\n",
       "    </tr>\n",
       "    <tr>\n",
       "      <th>min</th>\n",
       "      <td>NaN</td>\n",
       "      <td>NaN</td>\n",
       "      <td>NaN</td>\n",
       "      <td>NaN</td>\n",
       "      <td>0.000000</td>\n",
       "      <td>0.000000</td>\n",
       "      <td>NaN</td>\n",
       "    </tr>\n",
       "    <tr>\n",
       "      <th>25%</th>\n",
       "      <td>NaN</td>\n",
       "      <td>NaN</td>\n",
       "      <td>NaN</td>\n",
       "      <td>NaN</td>\n",
       "      <td>167.000000</td>\n",
       "      <td>0.000000</td>\n",
       "      <td>NaN</td>\n",
       "    </tr>\n",
       "    <tr>\n",
       "      <th>50%</th>\n",
       "      <td>NaN</td>\n",
       "      <td>NaN</td>\n",
       "      <td>NaN</td>\n",
       "      <td>NaN</td>\n",
       "      <td>1884.000000</td>\n",
       "      <td>39.000000</td>\n",
       "      <td>NaN</td>\n",
       "    </tr>\n",
       "    <tr>\n",
       "      <th>75%</th>\n",
       "      <td>NaN</td>\n",
       "      <td>NaN</td>\n",
       "      <td>NaN</td>\n",
       "      <td>NaN</td>\n",
       "      <td>12467.000000</td>\n",
       "      <td>276.500000</td>\n",
       "      <td>NaN</td>\n",
       "    </tr>\n",
       "    <tr>\n",
       "      <th>max</th>\n",
       "      <td>NaN</td>\n",
       "      <td>NaN</td>\n",
       "      <td>NaN</td>\n",
       "      <td>NaN</td>\n",
       "      <td>753227.000000</td>\n",
       "      <td>95062.000000</td>\n",
       "      <td>NaN</td>\n",
       "    </tr>\n",
       "  </tbody>\n",
       "</table>\n",
       "</div>"
      ],
      "text/plain": [
       "          Published Date   Account Account Type Campaign Name  \\\n",
       "count               3479      3479         3479          3479   \n",
       "unique              2411         6            6             4   \n",
       "top     03-29-2023 13:00  General       TWITTER          N/A    \n",
       "freq                  12      2271         1951          1485   \n",
       "mean                 NaN       NaN          NaN           NaN   \n",
       "std                  NaN       NaN          NaN           NaN   \n",
       "min                  NaN       NaN          NaN           NaN   \n",
       "25%                  NaN       NaN          NaN           NaN   \n",
       "50%                  NaN       NaN          NaN           NaN   \n",
       "75%                  NaN       NaN          NaN           NaN   \n",
       "max                  NaN       NaN          NaN           NaN   \n",
       "\n",
       "        Total Impressions  Total Engagements Media Type  \n",
       "count         3479.000000        3479.000000       3479  \n",
       "unique                NaN                NaN          7  \n",
       "top                   NaN                NaN      Photo  \n",
       "freq                  NaN                NaN       1490  \n",
       "mean         10972.453579         947.390629        NaN  \n",
       "std          29577.108063        3468.628038        NaN  \n",
       "min              0.000000           0.000000        NaN  \n",
       "25%            167.000000           0.000000        NaN  \n",
       "50%           1884.000000          39.000000        NaN  \n",
       "75%          12467.000000         276.500000        NaN  \n",
       "max         753227.000000       95062.000000        NaN  "
      ]
     },
     "execution_count": 4,
     "metadata": {},
     "output_type": "execute_result"
    }
   ],
   "source": [
    "data.describe(include = 'all',datetime_is_numeric=True)"
   ]
  },
  {
   "cell_type": "code",
   "execution_count": 5,
   "id": "b0189d22-f9da-4fcf-9e13-fbd0c258ca1e",
   "metadata": {},
   "outputs": [
    {
     "data": {
      "text/plain": [
       "Published Date       100.0\n",
       "Account              100.0\n",
       "Account Type         100.0\n",
       "Campaign Name        100.0\n",
       "Total Impressions    100.0\n",
       "Total Engagements    100.0\n",
       "Media Type           100.0\n",
       "dtype: float64"
      ]
     },
     "execution_count": 5,
     "metadata": {},
     "output_type": "execute_result"
    }
   ],
   "source": [
    "data.count() * 100 / len(data)"
   ]
  },
  {
   "cell_type": "code",
   "execution_count": 6,
   "id": "a8b5d5a1-00dc-4190-928c-e99ac85c3971",
   "metadata": {},
   "outputs": [
    {
     "data": {
      "text/plain": [
       "array(['CSGO', 'General ', 'DOTA2', 'Content Creators', 'Valorant',\n",
       "       'General'], dtype=object)"
      ]
     },
     "execution_count": 6,
     "metadata": {},
     "output_type": "execute_result"
    }
   ],
   "source": [
    "unique_accounts = data['Account'].unique()\n",
    "unique_accounts"
   ]
  },
  {
   "cell_type": "markdown",
   "id": "73cef527-4d86-492a-b45d-cfe5cb072735",
   "metadata": {},
   "source": [
    "- After checking the type of Accounts, I observed that there are 2 types of General. One with a space in it, I have removed the space and continued the data exploration"
   ]
  },
  {
   "cell_type": "code",
   "execution_count": 7,
   "id": "9fd68fd6-0937-41c2-9d15-d4f816260167",
   "metadata": {},
   "outputs": [],
   "source": [
    "data['Account'] = data['Account'].str.replace('General ', 'General')"
   ]
  },
  {
   "cell_type": "code",
   "execution_count": 8,
   "id": "ad98b5f8-57c0-460e-8ad5-0b82f2a60af1",
   "metadata": {},
   "outputs": [
    {
     "data": {
      "text/plain": [
       "array(['N/A ', 'Community Engagement ', 'Evergreen ', 'Evil Exhibited '],\n",
       "      dtype=object)"
      ]
     },
     "execution_count": 8,
     "metadata": {},
     "output_type": "execute_result"
    }
   ],
   "source": [
    "unique_accounts1 = data['Campaign Name'].unique()\n",
    "unique_accounts1"
   ]
  },
  {
   "cell_type": "code",
   "execution_count": 9,
   "id": "7d36ac71-4c09-4382-8ef9-fd4ba2080d51",
   "metadata": {},
   "outputs": [
    {
     "data": {
      "text/plain": [
       "array(['CSGO', 'General', 'DOTA2', 'Content Creators', 'Valorant'],\n",
       "      dtype=object)"
      ]
     },
     "execution_count": 9,
     "metadata": {},
     "output_type": "execute_result"
    }
   ],
   "source": [
    "unique_campaigns = data['Account'].unique()\n",
    "unique_campaigns"
   ]
  },
  {
   "cell_type": "code",
   "execution_count": 10,
   "id": "d28b2e41-80f7-4ed2-99fe-bcb13c269f7e",
   "metadata": {},
   "outputs": [
    {
     "data": {
      "text/plain": [
       "(array(['TWITTER'], dtype=object),\n",
       " array(['N/A ', 'Community Engagement '], dtype=object))"
      ]
     },
     "execution_count": 10,
     "metadata": {},
     "output_type": "execute_result"
    }
   ],
   "source": [
    "unique_account_types_CSGO = data[data['Account'] == 'CSGO']['Account Type'].unique()\n",
    "unique_campaign_types_CSGO = data[data['Account'] == 'CSGO']['Campaign Name'].unique()\n",
    "\n",
    "unique_account_types_CSGO, unique_campaign_types_CSGO"
   ]
  },
  {
   "cell_type": "markdown",
   "id": "13a99d9b-afe0-4f7b-816c-50254f9569ff",
   "metadata": {},
   "source": [
    "- We have observed a lot of N/A's for the account CSGO and it has only onw account type as twitter. Assuming that CSGO has account type as twitter and only one campaign name, it makes sense to fill the   "
   ]
  },
  {
   "cell_type": "code",
   "execution_count": 11,
   "id": "568ea2ab-a497-4bb1-92f1-fcc80bb75b5d",
   "metadata": {},
   "outputs": [
    {
     "data": {
      "text/html": [
       "<div>\n",
       "<style scoped>\n",
       "    .dataframe tbody tr th:only-of-type {\n",
       "        vertical-align: middle;\n",
       "    }\n",
       "\n",
       "    .dataframe tbody tr th {\n",
       "        vertical-align: top;\n",
       "    }\n",
       "\n",
       "    .dataframe thead th {\n",
       "        text-align: right;\n",
       "    }\n",
       "</style>\n",
       "<table border=\"1\" class=\"dataframe\">\n",
       "  <thead>\n",
       "    <tr style=\"text-align: right;\">\n",
       "      <th></th>\n",
       "      <th>Published Date</th>\n",
       "      <th>Account</th>\n",
       "      <th>Account Type</th>\n",
       "      <th>Campaign Name</th>\n",
       "      <th>Total Impressions</th>\n",
       "      <th>Total Engagements</th>\n",
       "      <th>Media Type</th>\n",
       "    </tr>\n",
       "  </thead>\n",
       "  <tbody>\n",
       "    <tr>\n",
       "      <th>4</th>\n",
       "      <td>03-31-2023 19:43</td>\n",
       "      <td>CSGO</td>\n",
       "      <td>TWITTER</td>\n",
       "      <td>Community Engagement</td>\n",
       "      <td>9517</td>\n",
       "      <td>1215</td>\n",
       "      <td>Video</td>\n",
       "    </tr>\n",
       "    <tr>\n",
       "      <th>6</th>\n",
       "      <td>03-31-2023 19:40</td>\n",
       "      <td>CSGO</td>\n",
       "      <td>TWITTER</td>\n",
       "      <td>Community Engagement</td>\n",
       "      <td>1882</td>\n",
       "      <td>83</td>\n",
       "      <td>Photo</td>\n",
       "    </tr>\n",
       "    <tr>\n",
       "      <th>7</th>\n",
       "      <td>03-31-2023 19:23</td>\n",
       "      <td>CSGO</td>\n",
       "      <td>TWITTER</td>\n",
       "      <td>Community Engagement</td>\n",
       "      <td>17892</td>\n",
       "      <td>3076</td>\n",
       "      <td>Video</td>\n",
       "    </tr>\n",
       "    <tr>\n",
       "      <th>9</th>\n",
       "      <td>03-31-2023 18:55</td>\n",
       "      <td>CSGO</td>\n",
       "      <td>TWITTER</td>\n",
       "      <td>Community Engagement</td>\n",
       "      <td>13874</td>\n",
       "      <td>1447</td>\n",
       "      <td>Video</td>\n",
       "    </tr>\n",
       "    <tr>\n",
       "      <th>10</th>\n",
       "      <td>03-31-2023 18:36</td>\n",
       "      <td>General</td>\n",
       "      <td>FBPAGE</td>\n",
       "      <td>Community Engagement</td>\n",
       "      <td>37692</td>\n",
       "      <td>8044</td>\n",
       "      <td>Photo</td>\n",
       "    </tr>\n",
       "    <tr>\n",
       "      <th>...</th>\n",
       "      <td>...</td>\n",
       "      <td>...</td>\n",
       "      <td>...</td>\n",
       "      <td>...</td>\n",
       "      <td>...</td>\n",
       "      <td>...</td>\n",
       "      <td>...</td>\n",
       "    </tr>\n",
       "    <tr>\n",
       "      <th>3440</th>\n",
       "      <td>01-08-2023 11:47</td>\n",
       "      <td>General</td>\n",
       "      <td>TWITTER</td>\n",
       "      <td>Community Engagement</td>\n",
       "      <td>19823</td>\n",
       "      <td>243</td>\n",
       "      <td>Photo</td>\n",
       "    </tr>\n",
       "    <tr>\n",
       "      <th>3459</th>\n",
       "      <td>01-05-2023 09:00</td>\n",
       "      <td>CSGO</td>\n",
       "      <td>TWITTER</td>\n",
       "      <td>Community Engagement</td>\n",
       "      <td>445130</td>\n",
       "      <td>10597</td>\n",
       "      <td>Video</td>\n",
       "    </tr>\n",
       "    <tr>\n",
       "      <th>3461</th>\n",
       "      <td>01-04-2023 14:57</td>\n",
       "      <td>General</td>\n",
       "      <td>FBPAGE</td>\n",
       "      <td>Community Engagement</td>\n",
       "      <td>155521</td>\n",
       "      <td>19098</td>\n",
       "      <td>Photo</td>\n",
       "    </tr>\n",
       "    <tr>\n",
       "      <th>3464</th>\n",
       "      <td>01-04-2023 13:00</td>\n",
       "      <td>General</td>\n",
       "      <td>TWITTER</td>\n",
       "      <td>Community Engagement</td>\n",
       "      <td>136660</td>\n",
       "      <td>2371</td>\n",
       "      <td>Photo</td>\n",
       "    </tr>\n",
       "    <tr>\n",
       "      <th>3465</th>\n",
       "      <td>01-04-2023 13:00</td>\n",
       "      <td>General</td>\n",
       "      <td>FBPAGE</td>\n",
       "      <td>Community Engagement</td>\n",
       "      <td>29051</td>\n",
       "      <td>811</td>\n",
       "      <td>Photo</td>\n",
       "    </tr>\n",
       "  </tbody>\n",
       "</table>\n",
       "<p>1994 rows × 7 columns</p>\n",
       "</div>"
      ],
      "text/plain": [
       "        Published Date  Account Account Type          Campaign Name  \\\n",
       "4     03-31-2023 19:43     CSGO      TWITTER  Community Engagement    \n",
       "6     03-31-2023 19:40     CSGO      TWITTER  Community Engagement    \n",
       "7     03-31-2023 19:23     CSGO      TWITTER  Community Engagement    \n",
       "9     03-31-2023 18:55     CSGO      TWITTER  Community Engagement    \n",
       "10    03-31-2023 18:36  General       FBPAGE  Community Engagement    \n",
       "...                ...      ...          ...                    ...   \n",
       "3440  01-08-2023 11:47  General      TWITTER  Community Engagement    \n",
       "3459  01-05-2023 09:00     CSGO      TWITTER  Community Engagement    \n",
       "3461  01-04-2023 14:57  General       FBPAGE  Community Engagement    \n",
       "3464  01-04-2023 13:00  General      TWITTER  Community Engagement    \n",
       "3465  01-04-2023 13:00  General       FBPAGE  Community Engagement    \n",
       "\n",
       "      Total Impressions  Total Engagements Media Type  \n",
       "4                  9517               1215      Video  \n",
       "6                  1882                 83      Photo  \n",
       "7                 17892               3076      Video  \n",
       "9                 13874               1447      Video  \n",
       "10                37692               8044      Photo  \n",
       "...                 ...                ...        ...  \n",
       "3440              19823                243      Photo  \n",
       "3459             445130              10597      Video  \n",
       "3461             155521              19098      Photo  \n",
       "3464             136660               2371      Photo  \n",
       "3465              29051                811      Photo  \n",
       "\n",
       "[1994 rows x 7 columns]"
      ]
     },
     "execution_count": 11,
     "metadata": {},
     "output_type": "execute_result"
    }
   ],
   "source": [
    "filtered_data = data[data['Campaign Name'].str.strip() != 'N/A']\n",
    "filtered_data"
   ]
  },
  {
   "cell_type": "markdown",
   "id": "25251533-6cdd-4d6f-a1b4-f736d815fd32",
   "metadata": {},
   "source": [
    "- I have filtered the data where the campaign name is having NA's in the dataset for further analysis"
   ]
  },
  {
   "cell_type": "code",
   "execution_count": 12,
   "id": "c6ce8332-a511-46f7-92c0-e244912d9592",
   "metadata": {},
   "outputs": [
    {
     "name": "stdout",
     "output_type": "stream",
     "text": [
      "<class 'pandas.core.frame.DataFrame'>\n",
      "Int64Index: 1994 entries, 4 to 3465\n",
      "Data columns (total 7 columns):\n",
      " #   Column             Non-Null Count  Dtype \n",
      "---  ------             --------------  ----- \n",
      " 0   Published Date     1994 non-null   object\n",
      " 1   Account            1994 non-null   object\n",
      " 2   Account Type       1994 non-null   object\n",
      " 3   Campaign Name      1994 non-null   object\n",
      " 4   Total Impressions  1994 non-null   int64 \n",
      " 5   Total Engagements  1994 non-null   int64 \n",
      " 6   Media Type         1994 non-null   object\n",
      "dtypes: int64(2), object(5)\n",
      "memory usage: 124.6+ KB\n"
     ]
    }
   ],
   "source": [
    "filtered_data.info()"
   ]
  },
  {
   "cell_type": "code",
   "execution_count": 13,
   "id": "804f8d83-01aa-4fb9-9f39-d62a48ee40fd",
   "metadata": {},
   "outputs": [
    {
     "name": "stderr",
     "output_type": "stream",
     "text": [
      "/tmp/ipykernel_73709/735474853.py:1: SettingWithCopyWarning: \n",
      "A value is trying to be set on a copy of a slice from a DataFrame.\n",
      "Try using .loc[row_indexer,col_indexer] = value instead\n",
      "\n",
      "See the caveats in the documentation: https://pandas.pydata.org/pandas-docs/stable/user_guide/indexing.html#returning-a-view-versus-a-copy\n",
      "  filtered_data['Published Date'] = pd.to_datetime(filtered_data['Published Date'])\n"
     ]
    },
    {
     "data": {
      "text/plain": [
       "Published Date       datetime64[ns]\n",
       "Account                      object\n",
       "Account Type                 object\n",
       "Campaign Name                object\n",
       "Total Impressions             int64\n",
       "Total Engagements             int64\n",
       "Media Type                   object\n",
       "dtype: object"
      ]
     },
     "execution_count": 13,
     "metadata": {},
     "output_type": "execute_result"
    }
   ],
   "source": [
    "filtered_data['Published Date'] = pd.to_datetime(filtered_data['Published Date'])\n",
    "filtered_data.dtypes"
   ]
  },
  {
   "cell_type": "code",
   "execution_count": 14,
   "id": "a59e2b35-ea16-48f1-9425-1239e7add7be",
   "metadata": {},
   "outputs": [
    {
     "name": "stderr",
     "output_type": "stream",
     "text": [
      "/tmp/ipykernel_73709/1322540408.py:3: SettingWithCopyWarning: \n",
      "A value is trying to be set on a copy of a slice from a DataFrame.\n",
      "Try using .loc[row_indexer,col_indexer] = value instead\n",
      "\n",
      "See the caveats in the documentation: https://pandas.pydata.org/pandas-docs/stable/user_guide/indexing.html#returning-a-view-versus-a-copy\n",
      "  filtered_data['Date'] = filtered_data['Published Date'].dt.date\n",
      "/tmp/ipykernel_73709/1322540408.py:4: SettingWithCopyWarning: \n",
      "A value is trying to be set on a copy of a slice from a DataFrame.\n",
      "Try using .loc[row_indexer,col_indexer] = value instead\n",
      "\n",
      "See the caveats in the documentation: https://pandas.pydata.org/pandas-docs/stable/user_guide/indexing.html#returning-a-view-versus-a-copy\n",
      "  filtered_data['Time'] = filtered_data['Published Date'].dt.time\n"
     ]
    }
   ],
   "source": [
    "## Creating 2 different values as date and time as the published date has time and date attached together\n",
    "\n",
    "filtered_data['Date'] = filtered_data['Published Date'].dt.date\n",
    "filtered_data['Time'] = filtered_data['Published Date'].dt.time"
   ]
  },
  {
   "cell_type": "code",
   "execution_count": 15,
   "id": "a805c4f6-52b0-4334-9255-ed69350c2343",
   "metadata": {},
   "outputs": [
    {
     "name": "stderr",
     "output_type": "stream",
     "text": [
      "/tmp/ipykernel_73709/2541963503.py:1: SettingWithCopyWarning: \n",
      "A value is trying to be set on a copy of a slice from a DataFrame.\n",
      "Try using .loc[row_indexer,col_indexer] = value instead\n",
      "\n",
      "See the caveats in the documentation: https://pandas.pydata.org/pandas-docs/stable/user_guide/indexing.html#returning-a-view-versus-a-copy\n",
      "  filtered_data['Date'] = pd.to_datetime(filtered_data['Date'])\n"
     ]
    }
   ],
   "source": [
    "filtered_data['Date'] = pd.to_datetime(filtered_data['Date'])"
   ]
  },
  {
   "cell_type": "code",
   "execution_count": 16,
   "id": "cf155810-55aa-40b1-ad8c-1c50439976b2",
   "metadata": {},
   "outputs": [
    {
     "name": "stderr",
     "output_type": "stream",
     "text": [
      "/tmp/ipykernel_73709/3637700185.py:1: SettingWithCopyWarning: \n",
      "A value is trying to be set on a copy of a slice from a DataFrame.\n",
      "Try using .loc[row_indexer,col_indexer] = value instead\n",
      "\n",
      "See the caveats in the documentation: https://pandas.pydata.org/pandas-docs/stable/user_guide/indexing.html#returning-a-view-versus-a-copy\n",
      "  filtered_data[\"Month\"] = filtered_data[\"Date\"].dt.to_period(\"M\")\n",
      "/tmp/ipykernel_73709/3637700185.py:2: SettingWithCopyWarning: \n",
      "A value is trying to be set on a copy of a slice from a DataFrame.\n",
      "Try using .loc[row_indexer,col_indexer] = value instead\n",
      "\n",
      "See the caveats in the documentation: https://pandas.pydata.org/pandas-docs/stable/user_guide/indexing.html#returning-a-view-versus-a-copy\n",
      "  filtered_data[\"MonthName\"] = filtered_data[\"Date\"].dt.strftime(\"%B\")\n",
      "/tmp/ipykernel_73709/3637700185.py:3: SettingWithCopyWarning: \n",
      "A value is trying to be set on a copy of a slice from a DataFrame.\n",
      "Try using .loc[row_indexer,col_indexer] = value instead\n",
      "\n",
      "See the caveats in the documentation: https://pandas.pydata.org/pandas-docs/stable/user_guide/indexing.html#returning-a-view-versus-a-copy\n",
      "  filtered_data['Year-Month'] = filtered_data['Date'].dt.strftime('%Y-%m')\n"
     ]
    }
   ],
   "source": [
    "filtered_data[\"Month\"] = filtered_data[\"Date\"].dt.to_period(\"M\")\n",
    "filtered_data[\"MonthName\"] = filtered_data[\"Date\"].dt.strftime(\"%B\")\n",
    "filtered_data['Year-Month'] = filtered_data['Date'].dt.strftime('%Y-%m')"
   ]
  },
  {
   "cell_type": "code",
   "execution_count": 17,
   "id": "edfad447-96a4-48b7-9f13-d13c0296eb4d",
   "metadata": {},
   "outputs": [
    {
     "data": {
      "text/html": [
       "<div>\n",
       "<style scoped>\n",
       "    .dataframe tbody tr th:only-of-type {\n",
       "        vertical-align: middle;\n",
       "    }\n",
       "\n",
       "    .dataframe tbody tr th {\n",
       "        vertical-align: top;\n",
       "    }\n",
       "\n",
       "    .dataframe thead th {\n",
       "        text-align: right;\n",
       "    }\n",
       "</style>\n",
       "<table border=\"1\" class=\"dataframe\">\n",
       "  <thead>\n",
       "    <tr style=\"text-align: right;\">\n",
       "      <th></th>\n",
       "      <th>Published Date</th>\n",
       "      <th>Account</th>\n",
       "      <th>Account Type</th>\n",
       "      <th>Campaign Name</th>\n",
       "      <th>Total Impressions</th>\n",
       "      <th>Total Engagements</th>\n",
       "      <th>Media Type</th>\n",
       "      <th>Time</th>\n",
       "      <th>Month</th>\n",
       "      <th>MonthName</th>\n",
       "      <th>Year-Month</th>\n",
       "    </tr>\n",
       "    <tr>\n",
       "      <th>Date</th>\n",
       "      <th></th>\n",
       "      <th></th>\n",
       "      <th></th>\n",
       "      <th></th>\n",
       "      <th></th>\n",
       "      <th></th>\n",
       "      <th></th>\n",
       "      <th></th>\n",
       "      <th></th>\n",
       "      <th></th>\n",
       "      <th></th>\n",
       "    </tr>\n",
       "  </thead>\n",
       "  <tbody>\n",
       "    <tr>\n",
       "      <th>2023-01-04</th>\n",
       "      <td>3</td>\n",
       "      <td>3</td>\n",
       "      <td>3</td>\n",
       "      <td>3</td>\n",
       "      <td>3</td>\n",
       "      <td>3</td>\n",
       "      <td>3</td>\n",
       "      <td>3</td>\n",
       "      <td>3</td>\n",
       "      <td>3</td>\n",
       "      <td>3</td>\n",
       "    </tr>\n",
       "    <tr>\n",
       "      <th>2023-01-05</th>\n",
       "      <td>1</td>\n",
       "      <td>1</td>\n",
       "      <td>1</td>\n",
       "      <td>1</td>\n",
       "      <td>1</td>\n",
       "      <td>1</td>\n",
       "      <td>1</td>\n",
       "      <td>1</td>\n",
       "      <td>1</td>\n",
       "      <td>1</td>\n",
       "      <td>1</td>\n",
       "    </tr>\n",
       "    <tr>\n",
       "      <th>2023-01-08</th>\n",
       "      <td>1</td>\n",
       "      <td>1</td>\n",
       "      <td>1</td>\n",
       "      <td>1</td>\n",
       "      <td>1</td>\n",
       "      <td>1</td>\n",
       "      <td>1</td>\n",
       "      <td>1</td>\n",
       "      <td>1</td>\n",
       "      <td>1</td>\n",
       "      <td>1</td>\n",
       "    </tr>\n",
       "    <tr>\n",
       "      <th>2023-01-10</th>\n",
       "      <td>9</td>\n",
       "      <td>9</td>\n",
       "      <td>9</td>\n",
       "      <td>9</td>\n",
       "      <td>9</td>\n",
       "      <td>9</td>\n",
       "      <td>9</td>\n",
       "      <td>9</td>\n",
       "      <td>9</td>\n",
       "      <td>9</td>\n",
       "      <td>9</td>\n",
       "    </tr>\n",
       "    <tr>\n",
       "      <th>2023-01-11</th>\n",
       "      <td>1</td>\n",
       "      <td>1</td>\n",
       "      <td>1</td>\n",
       "      <td>1</td>\n",
       "      <td>1</td>\n",
       "      <td>1</td>\n",
       "      <td>1</td>\n",
       "      <td>1</td>\n",
       "      <td>1</td>\n",
       "      <td>1</td>\n",
       "      <td>1</td>\n",
       "    </tr>\n",
       "    <tr>\n",
       "      <th>2023-01-12</th>\n",
       "      <td>3</td>\n",
       "      <td>3</td>\n",
       "      <td>3</td>\n",
       "      <td>3</td>\n",
       "      <td>3</td>\n",
       "      <td>3</td>\n",
       "      <td>3</td>\n",
       "      <td>3</td>\n",
       "      <td>3</td>\n",
       "      <td>3</td>\n",
       "      <td>3</td>\n",
       "    </tr>\n",
       "    <tr>\n",
       "      <th>2023-01-15</th>\n",
       "      <td>1</td>\n",
       "      <td>1</td>\n",
       "      <td>1</td>\n",
       "      <td>1</td>\n",
       "      <td>1</td>\n",
       "      <td>1</td>\n",
       "      <td>1</td>\n",
       "      <td>1</td>\n",
       "      <td>1</td>\n",
       "      <td>1</td>\n",
       "      <td>1</td>\n",
       "    </tr>\n",
       "    <tr>\n",
       "      <th>2023-01-17</th>\n",
       "      <td>6</td>\n",
       "      <td>6</td>\n",
       "      <td>6</td>\n",
       "      <td>6</td>\n",
       "      <td>6</td>\n",
       "      <td>6</td>\n",
       "      <td>6</td>\n",
       "      <td>6</td>\n",
       "      <td>6</td>\n",
       "      <td>6</td>\n",
       "      <td>6</td>\n",
       "    </tr>\n",
       "    <tr>\n",
       "      <th>2023-01-19</th>\n",
       "      <td>7</td>\n",
       "      <td>7</td>\n",
       "      <td>7</td>\n",
       "      <td>7</td>\n",
       "      <td>7</td>\n",
       "      <td>7</td>\n",
       "      <td>7</td>\n",
       "      <td>7</td>\n",
       "      <td>7</td>\n",
       "      <td>7</td>\n",
       "      <td>7</td>\n",
       "    </tr>\n",
       "    <tr>\n",
       "      <th>2023-01-21</th>\n",
       "      <td>5</td>\n",
       "      <td>5</td>\n",
       "      <td>5</td>\n",
       "      <td>5</td>\n",
       "      <td>5</td>\n",
       "      <td>5</td>\n",
       "      <td>5</td>\n",
       "      <td>5</td>\n",
       "      <td>5</td>\n",
       "      <td>5</td>\n",
       "      <td>5</td>\n",
       "    </tr>\n",
       "    <tr>\n",
       "      <th>2023-01-22</th>\n",
       "      <td>8</td>\n",
       "      <td>8</td>\n",
       "      <td>8</td>\n",
       "      <td>8</td>\n",
       "      <td>8</td>\n",
       "      <td>8</td>\n",
       "      <td>8</td>\n",
       "      <td>8</td>\n",
       "      <td>8</td>\n",
       "      <td>8</td>\n",
       "      <td>8</td>\n",
       "    </tr>\n",
       "    <tr>\n",
       "      <th>2023-01-23</th>\n",
       "      <td>6</td>\n",
       "      <td>6</td>\n",
       "      <td>6</td>\n",
       "      <td>6</td>\n",
       "      <td>6</td>\n",
       "      <td>6</td>\n",
       "      <td>6</td>\n",
       "      <td>6</td>\n",
       "      <td>6</td>\n",
       "      <td>6</td>\n",
       "      <td>6</td>\n",
       "    </tr>\n",
       "    <tr>\n",
       "      <th>2023-01-24</th>\n",
       "      <td>80</td>\n",
       "      <td>80</td>\n",
       "      <td>80</td>\n",
       "      <td>80</td>\n",
       "      <td>80</td>\n",
       "      <td>80</td>\n",
       "      <td>80</td>\n",
       "      <td>80</td>\n",
       "      <td>80</td>\n",
       "      <td>80</td>\n",
       "      <td>80</td>\n",
       "    </tr>\n",
       "    <tr>\n",
       "      <th>2023-01-25</th>\n",
       "      <td>32</td>\n",
       "      <td>32</td>\n",
       "      <td>32</td>\n",
       "      <td>32</td>\n",
       "      <td>32</td>\n",
       "      <td>32</td>\n",
       "      <td>32</td>\n",
       "      <td>32</td>\n",
       "      <td>32</td>\n",
       "      <td>32</td>\n",
       "      <td>32</td>\n",
       "    </tr>\n",
       "    <tr>\n",
       "      <th>2023-01-26</th>\n",
       "      <td>97</td>\n",
       "      <td>97</td>\n",
       "      <td>97</td>\n",
       "      <td>97</td>\n",
       "      <td>97</td>\n",
       "      <td>97</td>\n",
       "      <td>97</td>\n",
       "      <td>97</td>\n",
       "      <td>97</td>\n",
       "      <td>97</td>\n",
       "      <td>97</td>\n",
       "    </tr>\n",
       "    <tr>\n",
       "      <th>2023-01-27</th>\n",
       "      <td>41</td>\n",
       "      <td>41</td>\n",
       "      <td>41</td>\n",
       "      <td>41</td>\n",
       "      <td>41</td>\n",
       "      <td>41</td>\n",
       "      <td>41</td>\n",
       "      <td>41</td>\n",
       "      <td>41</td>\n",
       "      <td>41</td>\n",
       "      <td>41</td>\n",
       "    </tr>\n",
       "    <tr>\n",
       "      <th>2023-01-28</th>\n",
       "      <td>9</td>\n",
       "      <td>9</td>\n",
       "      <td>9</td>\n",
       "      <td>9</td>\n",
       "      <td>9</td>\n",
       "      <td>9</td>\n",
       "      <td>9</td>\n",
       "      <td>9</td>\n",
       "      <td>9</td>\n",
       "      <td>9</td>\n",
       "      <td>9</td>\n",
       "    </tr>\n",
       "    <tr>\n",
       "      <th>2023-01-29</th>\n",
       "      <td>9</td>\n",
       "      <td>9</td>\n",
       "      <td>9</td>\n",
       "      <td>9</td>\n",
       "      <td>9</td>\n",
       "      <td>9</td>\n",
       "      <td>9</td>\n",
       "      <td>9</td>\n",
       "      <td>9</td>\n",
       "      <td>9</td>\n",
       "      <td>9</td>\n",
       "    </tr>\n",
       "    <tr>\n",
       "      <th>2023-01-30</th>\n",
       "      <td>13</td>\n",
       "      <td>13</td>\n",
       "      <td>13</td>\n",
       "      <td>13</td>\n",
       "      <td>13</td>\n",
       "      <td>13</td>\n",
       "      <td>13</td>\n",
       "      <td>13</td>\n",
       "      <td>13</td>\n",
       "      <td>13</td>\n",
       "      <td>13</td>\n",
       "    </tr>\n",
       "    <tr>\n",
       "      <th>2023-01-31</th>\n",
       "      <td>5</td>\n",
       "      <td>5</td>\n",
       "      <td>5</td>\n",
       "      <td>5</td>\n",
       "      <td>5</td>\n",
       "      <td>5</td>\n",
       "      <td>5</td>\n",
       "      <td>5</td>\n",
       "      <td>5</td>\n",
       "      <td>5</td>\n",
       "      <td>5</td>\n",
       "    </tr>\n",
       "  </tbody>\n",
       "</table>\n",
       "</div>"
      ],
      "text/plain": [
       "            Published Date  Account  Account Type  Campaign Name  \\\n",
       "Date                                                               \n",
       "2023-01-04               3        3             3              3   \n",
       "2023-01-05               1        1             1              1   \n",
       "2023-01-08               1        1             1              1   \n",
       "2023-01-10               9        9             9              9   \n",
       "2023-01-11               1        1             1              1   \n",
       "2023-01-12               3        3             3              3   \n",
       "2023-01-15               1        1             1              1   \n",
       "2023-01-17               6        6             6              6   \n",
       "2023-01-19               7        7             7              7   \n",
       "2023-01-21               5        5             5              5   \n",
       "2023-01-22               8        8             8              8   \n",
       "2023-01-23               6        6             6              6   \n",
       "2023-01-24              80       80            80             80   \n",
       "2023-01-25              32       32            32             32   \n",
       "2023-01-26              97       97            97             97   \n",
       "2023-01-27              41       41            41             41   \n",
       "2023-01-28               9        9             9              9   \n",
       "2023-01-29               9        9             9              9   \n",
       "2023-01-30              13       13            13             13   \n",
       "2023-01-31               5        5             5              5   \n",
       "\n",
       "            Total Impressions  Total Engagements  Media Type  Time  Month  \\\n",
       "Date                                                                        \n",
       "2023-01-04                  3                  3           3     3      3   \n",
       "2023-01-05                  1                  1           1     1      1   \n",
       "2023-01-08                  1                  1           1     1      1   \n",
       "2023-01-10                  9                  9           9     9      9   \n",
       "2023-01-11                  1                  1           1     1      1   \n",
       "2023-01-12                  3                  3           3     3      3   \n",
       "2023-01-15                  1                  1           1     1      1   \n",
       "2023-01-17                  6                  6           6     6      6   \n",
       "2023-01-19                  7                  7           7     7      7   \n",
       "2023-01-21                  5                  5           5     5      5   \n",
       "2023-01-22                  8                  8           8     8      8   \n",
       "2023-01-23                  6                  6           6     6      6   \n",
       "2023-01-24                 80                 80          80    80     80   \n",
       "2023-01-25                 32                 32          32    32     32   \n",
       "2023-01-26                 97                 97          97    97     97   \n",
       "2023-01-27                 41                 41          41    41     41   \n",
       "2023-01-28                  9                  9           9     9      9   \n",
       "2023-01-29                  9                  9           9     9      9   \n",
       "2023-01-30                 13                 13          13    13     13   \n",
       "2023-01-31                  5                  5           5     5      5   \n",
       "\n",
       "            MonthName  Year-Month  \n",
       "Date                               \n",
       "2023-01-04          3           3  \n",
       "2023-01-05          1           1  \n",
       "2023-01-08          1           1  \n",
       "2023-01-10          9           9  \n",
       "2023-01-11          1           1  \n",
       "2023-01-12          3           3  \n",
       "2023-01-15          1           1  \n",
       "2023-01-17          6           6  \n",
       "2023-01-19          7           7  \n",
       "2023-01-21          5           5  \n",
       "2023-01-22          8           8  \n",
       "2023-01-23          6           6  \n",
       "2023-01-24         80          80  \n",
       "2023-01-25         32          32  \n",
       "2023-01-26         97          97  \n",
       "2023-01-27         41          41  \n",
       "2023-01-28          9           9  \n",
       "2023-01-29          9           9  \n",
       "2023-01-30         13          13  \n",
       "2023-01-31          5           5  "
      ]
     },
     "execution_count": 17,
     "metadata": {},
     "output_type": "execute_result"
    }
   ],
   "source": [
    "## Individual days and the respective data available\n",
    "\n",
    "count_day = filtered_data.groupby('Date').count()\n",
    "count_day.head(20)"
   ]
  },
  {
   "cell_type": "markdown",
   "id": "fd8404ff-c4e7-415b-a986-5a8452c746c2",
   "metadata": {},
   "source": [
    "### From the above table we can see that \n",
    "\n",
    "- 24th, 25th, 26th and 27th have a huge number of number of campaigns going out and there are a lot of engagements during the 4th week of January.\n",
    "\n",
    "- If we play around with the above code, we can see that every 4th week of the month we are having high impressions and engagements. One of the reason can be the budget cycle of the company starts in the 4th week of the month, the gamers receive their paychecks during the month end, some of the competitors are posting during the month end.   "
   ]
  },
  {
   "cell_type": "code",
   "execution_count": 18,
   "id": "abaad5aa-7ee5-416e-8b8f-fd9e93bc700f",
   "metadata": {},
   "outputs": [
    {
     "data": {
      "text/html": [
       "<div>\n",
       "<style scoped>\n",
       "    .dataframe tbody tr th:only-of-type {\n",
       "        vertical-align: middle;\n",
       "    }\n",
       "\n",
       "    .dataframe tbody tr th {\n",
       "        vertical-align: top;\n",
       "    }\n",
       "\n",
       "    .dataframe thead th {\n",
       "        text-align: right;\n",
       "    }\n",
       "</style>\n",
       "<table border=\"1\" class=\"dataframe\">\n",
       "  <thead>\n",
       "    <tr style=\"text-align: right;\">\n",
       "      <th></th>\n",
       "      <th>Total Impressions</th>\n",
       "      <th>Total Engagements</th>\n",
       "    </tr>\n",
       "  </thead>\n",
       "  <tbody>\n",
       "    <tr>\n",
       "      <th>count</th>\n",
       "      <td>1994.000000</td>\n",
       "      <td>1994.000000</td>\n",
       "    </tr>\n",
       "    <tr>\n",
       "      <th>mean</th>\n",
       "      <td>15483.991976</td>\n",
       "      <td>1140.019559</td>\n",
       "    </tr>\n",
       "    <tr>\n",
       "      <th>std</th>\n",
       "      <td>32784.477628</td>\n",
       "      <td>3244.459612</td>\n",
       "    </tr>\n",
       "    <tr>\n",
       "      <th>min</th>\n",
       "      <td>0.000000</td>\n",
       "      <td>0.000000</td>\n",
       "    </tr>\n",
       "    <tr>\n",
       "      <th>25%</th>\n",
       "      <td>1300.250000</td>\n",
       "      <td>18.000000</td>\n",
       "    </tr>\n",
       "    <tr>\n",
       "      <th>50%</th>\n",
       "      <td>6242.500000</td>\n",
       "      <td>110.500000</td>\n",
       "    </tr>\n",
       "    <tr>\n",
       "      <th>75%</th>\n",
       "      <td>18345.000000</td>\n",
       "      <td>516.000000</td>\n",
       "    </tr>\n",
       "    <tr>\n",
       "      <th>max</th>\n",
       "      <td>452337.000000</td>\n",
       "      <td>41102.000000</td>\n",
       "    </tr>\n",
       "  </tbody>\n",
       "</table>\n",
       "</div>"
      ],
      "text/plain": [
       "       Total Impressions  Total Engagements\n",
       "count        1994.000000        1994.000000\n",
       "mean        15483.991976        1140.019559\n",
       "std         32784.477628        3244.459612\n",
       "min             0.000000           0.000000\n",
       "25%          1300.250000          18.000000\n",
       "50%          6242.500000         110.500000\n",
       "75%         18345.000000         516.000000\n",
       "max        452337.000000       41102.000000"
      ]
     },
     "execution_count": 18,
     "metadata": {},
     "output_type": "execute_result"
    }
   ],
   "source": [
    "filtered_data.describe()"
   ]
  },
  {
   "cell_type": "code",
   "execution_count": 19,
   "id": "b9e365ea-87bc-49d1-bf0d-4888d608aa1d",
   "metadata": {},
   "outputs": [
    {
     "name": "stdout",
     "output_type": "stream",
     "text": [
      "Column 'Published Date' has 1453 unique value(s).\n",
      "Column 'Account' has 5 unique value(s).\n",
      "Column 'Account Type' has 6 unique value(s).\n",
      "Column 'Campaign Name' has 3 unique value(s).\n",
      "Column 'Total Impressions' has 1786 unique value(s).\n",
      "Column 'Total Engagements' has 836 unique value(s).\n",
      "Column 'Media Type' has 6 unique value(s).\n",
      "Column 'Date' has 79 unique value(s).\n",
      "Column 'Time' has 658 unique value(s).\n",
      "Column 'Month' has 3 unique value(s).\n",
      "Column 'MonthName' has 3 unique value(s).\n",
      "Column 'Year-Month' has 3 unique value(s).\n"
     ]
    }
   ],
   "source": [
    "for column in filtered_data.columns:\n",
    "    unique_values = filtered_data[column].nunique()\n",
    "    print(f\"Column '{column}' has {unique_values} unique value(s).\")"
   ]
  },
  {
   "cell_type": "code",
   "execution_count": 20,
   "id": "044101cd-ac93-4aef-a517-e9e574211520",
   "metadata": {},
   "outputs": [],
   "source": [
    "total_impressions = filtered_data['Total Impressions'].sum()\n",
    "total_engagements = filtered_data['Total Engagements'].sum()"
   ]
  },
  {
   "cell_type": "code",
   "execution_count": 21,
   "id": "4798fcbd-2fe9-486a-8e63-1f79a77b9a3e",
   "metadata": {},
   "outputs": [
    {
     "name": "stdout",
     "output_type": "stream",
     "text": [
      "\n",
      "Grouped by Media Type and Campaign Name:\n",
      "                                                   Total Impressions  \\\n",
      "Account Type     Media Type Campaign Name                              \n",
      "FBPAGE           Link       Community Engagement                   0   \n",
      "                            Evil Exhibited                      6416   \n",
      "                 Photo      Community Engagement             6456566   \n",
      "                            Evil Exhibited                    441010   \n",
      "                 Text       Community Engagement              696958   \n",
      "                 Video      Community Engagement             1718706   \n",
      "                            Evergreen                          61643   \n",
      "                            Evil Exhibited                     80454   \n",
      "INSTAGRAM        Carousel   Community Engagement              150663   \n",
      "                            Evil Exhibited                     10026   \n",
      "                 Photo      Community Engagement              940349   \n",
      "                            Evil Exhibited                    185395   \n",
      "                 Video      Community Engagement              448793   \n",
      "                            Evergreen                        1096640   \n",
      "                            Evil Exhibited                    275031   \n",
      "LINKEDIN_COMPANY Link       Community Engagement                3893   \n",
      "                            Evil Exhibited                      3859   \n",
      "                 Photo      Community Engagement               20222   \n",
      "                 Text       Community Engagement                4047   \n",
      "                 Video      Community Engagement                2914   \n",
      "TIKTOK_BUSINESS  Video      Community Engagement               10427   \n",
      "                            Evergreen                         100692   \n",
      "                            Evil Exhibited                    219473   \n",
      "TWITTER          Link       Community Engagement              162253   \n",
      "                            Evil Exhibited                     24469   \n",
      "                 Mixed      Community Engagement               15206   \n",
      "                            Evil Exhibited                     98264   \n",
      "                 Photo      Community Engagement             9037237   \n",
      "                            Evil Exhibited                   2924141   \n",
      "                 Text       Community Engagement             1280811   \n",
      "                            Evil Exhibited                    127487   \n",
      "                 Video      Community Engagement             2824011   \n",
      "                            Evergreen                          52350   \n",
      "                            Evil Exhibited                   1323305   \n",
      "YOUTUBE          Link       Evil Exhibited                         0   \n",
      "                 Text       Community Engagement                   0   \n",
      "                            Evil Exhibited                         0   \n",
      "                 Video      Community Engagement               30700   \n",
      "                            Evergreen                          17404   \n",
      "                            Evil Exhibited                     23265   \n",
      "\n",
      "                                                   Total Engagements  \n",
      "Account Type     Media Type Campaign Name                             \n",
      "FBPAGE           Link       Community Engagement                   0  \n",
      "                            Evil Exhibited                        52  \n",
      "                 Photo      Community Engagement             1234495  \n",
      "                            Evil Exhibited                     14559  \n",
      "                 Text       Community Engagement              110032  \n",
      "                 Video      Community Engagement              287023  \n",
      "                            Evergreen                           8074  \n",
      "                            Evil Exhibited                      4125  \n",
      "INSTAGRAM        Carousel   Community Engagement                6418  \n",
      "                            Evil Exhibited                       123  \n",
      "                 Photo      Community Engagement               36647  \n",
      "                            Evil Exhibited                      2155  \n",
      "                 Video      Community Engagement                9737  \n",
      "                            Evergreen                          21769  \n",
      "                            Evil Exhibited                      3429  \n",
      "LINKEDIN_COMPANY Link       Community Engagement                  70  \n",
      "                            Evil Exhibited                       124  \n",
      "                 Photo      Community Engagement                 419  \n",
      "                 Text       Community Engagement                  37  \n",
      "                 Video      Community Engagement                  71  \n",
      "TIKTOK_BUSINESS  Video      Community Engagement                 610  \n",
      "                            Evergreen                           6463  \n",
      "                            Evil Exhibited                     10580  \n",
      "TWITTER          Link       Community Engagement                 917  \n",
      "                            Evil Exhibited                       449  \n",
      "                 Mixed      Community Engagement                1234  \n",
      "                            Evil Exhibited                      7122  \n",
      "                 Photo      Community Engagement              206425  \n",
      "                            Evil Exhibited                     69461  \n",
      "                 Text       Community Engagement               23743  \n",
      "                            Evil Exhibited                      4043  \n",
      "                 Video      Community Engagement              125623  \n",
      "                            Evergreen                           6162  \n",
      "                            Evil Exhibited                     68176  \n",
      "YOUTUBE          Link       Evil Exhibited                         0  \n",
      "                 Text       Community Engagement                   0  \n",
      "                            Evil Exhibited                         0  \n",
      "                 Video      Community Engagement                1266  \n",
      "                            Evergreen                            659  \n",
      "                            Evil Exhibited                       907  \n"
     ]
    },
    {
     "name": "stderr",
     "output_type": "stream",
     "text": [
      "/tmp/ipykernel_73709/2992484364.py:2: FutureWarning: The default value of numeric_only in DataFrameGroupBy.sum is deprecated. In a future version, numeric_only will default to False. Either specify numeric_only or select only columns which should be valid for the function.\n",
      "  grouped_by = filtered_data.groupby(['Account Type', 'Media Type', 'Campaign Name']).sum()\n"
     ]
    }
   ],
   "source": [
    "# Group by Account Type, Media Type, Campaign Name together\n",
    "grouped_by = filtered_data.groupby(['Account Type', 'Media Type', 'Campaign Name']).sum()\n",
    "print(\"\\nGrouped by Media Type and Campaign Name:\")\n",
    "print(grouped_by[['Total Impressions', 'Total Engagements']])"
   ]
  },
  {
   "cell_type": "code",
   "execution_count": 22,
   "id": "35498cc5-bd83-4b2b-bdc6-b33d83ca5a7b",
   "metadata": {},
   "outputs": [
    {
     "data": {
      "image/png": "[encoded data removed]",
      "text/plain": [
       "<Figure size 640x480 with 1 Axes>"
      ]
     },
     "metadata": {},
     "output_type": "display_data"
    }
   ],
   "source": [
    "# Plotting the distribution of engagements\n",
    "plt.hist(filtered_data['Total Engagements'], bins=10)\n",
    "plt.xlabel('Engagements')\n",
    "plt.ylabel('Count')\n",
    "plt.title('Distribution of Engagements')\n",
    "plt.show()"
   ]
  },
  {
   "cell_type": "markdown",
   "id": "8e0e279c-2832-454c-ab3d-953ee4f50192",
   "metadata": {},
   "source": [
    "- From the above graph we could see that the engagements graph is right skewed and the data is not distributed normally"
   ]
  },
  {
   "cell_type": "code",
   "execution_count": 23,
   "id": "1215c39c-fab5-4a2c-89e0-0edee773eda8",
   "metadata": {},
   "outputs": [
    {
     "data": {
      "image/png": "[encoded data removed]",
      "text/plain": [
       "<Figure size 640x480 with 1 Axes>"
      ]
     },
     "metadata": {},
     "output_type": "display_data"
    }
   ],
   "source": [
    "# Plotting the distribution of impressions\n",
    "plt.hist(filtered_data['Total Impressions'], bins=10)\n",
    "plt.xlabel('Impressions')\n",
    "plt.ylabel('Count')\n",
    "plt.title('Distribution of Impressions')\n",
    "plt.show()"
   ]
  },
  {
   "cell_type": "markdown",
   "id": "369a5fde-5749-44c7-b5c8-ffc40a9e4221",
   "metadata": {},
   "source": [
    "- From the above graph we could see that the impressions graph is right skewed and the data is not distributed normally\n",
    "\n",
    "- The reason for this is because we have more impressions during the 4th week of the months and the data is becoming skewed because of it.\n",
    "\n",
    "- To resolve this issue we can apply the logarithmic function if we use a linear regression model but in this case, we are just exploring the data."
   ]
  },
  {
   "cell_type": "code",
   "execution_count": 24,
   "id": "c53d2139-0fdd-4492-bcf7-018891b43da9",
   "metadata": {},
   "outputs": [
    {
     "name": "stderr",
     "output_type": "stream",
     "text": [
      "/tmp/ipykernel_73709/2293447970.py:2: SettingWithCopyWarning: \n",
      "A value is trying to be set on a copy of a slice from a DataFrame.\n",
      "Try using .loc[row_indexer,col_indexer] = value instead\n",
      "\n",
      "See the caveats in the documentation: https://pandas.pydata.org/pandas-docs/stable/user_guide/indexing.html#returning-a-view-versus-a-copy\n",
      "  filtered_data['Engagements_log'] = np.log1p(filtered_data['Total Engagements'])\n",
      "/tmp/ipykernel_73709/2293447970.py:3: SettingWithCopyWarning: \n",
      "A value is trying to be set on a copy of a slice from a DataFrame.\n",
      "Try using .loc[row_indexer,col_indexer] = value instead\n",
      "\n",
      "See the caveats in the documentation: https://pandas.pydata.org/pandas-docs/stable/user_guide/indexing.html#returning-a-view-versus-a-copy\n",
      "  filtered_data['Impressions_log'] = np.log1p(filtered_data['Total Impressions'])\n"
     ]
    }
   ],
   "source": [
    "# Log transformation of engagements and impressions\n",
    "filtered_data['Engagements_log'] = np.log1p(filtered_data['Total Engagements'])\n",
    "filtered_data['Impressions_log'] = np.log1p(filtered_data['Total Impressions'])"
   ]
  },
  {
   "cell_type": "code",
   "execution_count": 25,
   "id": "ce30b9aa-f735-4bdc-882f-be56a0d83f30",
   "metadata": {},
   "outputs": [
    {
     "data": {
      "image/png": "[encoded data removed]",
      "text/plain": [
       "<Figure size 640x480 with 1 Axes>"
      ]
     },
     "metadata": {},
     "output_type": "display_data"
    }
   ],
   "source": [
    "# Plotting the log-transformed distributions\n",
    "plt.hist(filtered_data['Engagements_log'], bins=10)\n",
    "plt.xlabel('Log-transformed Engagements')\n",
    "plt.ylabel('Count')\n",
    "plt.title('Distribution of Log-transformed Engagements')\n",
    "plt.show()"
   ]
  },
  {
   "cell_type": "code",
   "execution_count": 26,
   "id": "a41ffb9f-a898-4be9-a11a-83d9bf02847f",
   "metadata": {},
   "outputs": [
    {
     "data": {
      "image/png": "[encoded data removed]",
      "text/plain": [
       "<Figure size 640x480 with 1 Axes>"
      ]
     },
     "metadata": {},
     "output_type": "display_data"
    }
   ],
   "source": [
    "plt.hist(filtered_data['Impressions_log'], bins=10)\n",
    "plt.xlabel('Log-transformed Impressions')\n",
    "plt.ylabel('Count')\n",
    "plt.title('Distribution of Log-transformed Impressions')\n",
    "plt.show()"
   ]
  },
  {
   "cell_type": "markdown",
   "id": "eb09f2dd-d0cf-43f4-b449-1fbb1f85c395",
   "metadata": {},
   "source": [
    "- In the above 2 graphs we could see the data is now normally distributed after applying the logarithmic function.\n",
    "- We can use this log values if we are implementing a linear regression model"
   ]
  },
  {
   "cell_type": "code",
   "execution_count": 27,
   "id": "a60d0bd8-2bb3-486f-b323-1e7b3fb851c6",
   "metadata": {},
   "outputs": [
    {
     "name": "stderr",
     "output_type": "stream",
     "text": [
      "/tmp/ipykernel_73709/4252004082.py:1: SettingWithCopyWarning: \n",
      "A value is trying to be set on a copy of a slice from a DataFrame.\n",
      "Try using .loc[row_indexer,col_indexer] = value instead\n",
      "\n",
      "See the caveats in the documentation: https://pandas.pydata.org/pandas-docs/stable/user_guide/indexing.html#returning-a-view-versus-a-copy\n",
      "  filtered_data['Engagement Rate'] = (filtered_data['Total Engagements'] / filtered_data['Total Impressions']) * 100\n",
      "/tmp/ipykernel_73709/4252004082.py:2: SettingWithCopyWarning: \n",
      "A value is trying to be set on a copy of a slice from a DataFrame.\n",
      "Try using .loc[row_indexer,col_indexer] = value instead\n",
      "\n",
      "See the caveats in the documentation: https://pandas.pydata.org/pandas-docs/stable/user_guide/indexing.html#returning-a-view-versus-a-copy\n",
      "  filtered_data['Engagement Rate Log'] = (filtered_data['Engagements_log'] / filtered_data['Impressions_log']) * 100\n"
     ]
    }
   ],
   "source": [
    "filtered_data['Engagement Rate'] = (filtered_data['Total Engagements'] / filtered_data['Total Impressions']) * 100\n",
    "filtered_data['Engagement Rate Log'] = (filtered_data['Engagements_log'] / filtered_data['Impressions_log']) * 100"
   ]
  },
  {
   "cell_type": "markdown",
   "id": "e7625526-8c7e-4b23-a6de-73b14b81d352",
   "metadata": {},
   "source": [
    "# Question 1 - What is the typical engagement rate we can expect? What’s the likelihood that we can achieve a 15% engagement rate?"
   ]
  },
  {
   "cell_type": "code",
   "execution_count": 28,
   "id": "f4562f19-5151-46e0-9c2f-e072c869fe60",
   "metadata": {},
   "outputs": [
    {
     "data": {
      "text/plain": [
       "4.988052408190703"
      ]
     },
     "execution_count": 28,
     "metadata": {},
     "output_type": "execute_result"
    }
   ],
   "source": [
    "engagement_rate = filtered_data['Engagement Rate'].mean()\n",
    "engagement_rate"
   ]
  },
  {
   "cell_type": "markdown",
   "id": "7eb77a21-8740-4b39-a863-09b8b6b84505",
   "metadata": {},
   "source": [
    "### The average engagement rate is approximately 5% and for further analysis I have grouped by account type so that we can target specific channels to improve the engagement rate"
   ]
  },
  {
   "cell_type": "code",
   "execution_count": 29,
   "id": "2c0b22b0-71f1-4ee5-b448-4d6c1116454a",
   "metadata": {},
   "outputs": [],
   "source": [
    "data_er_at = filtered_data.groupby('Account Type')['Engagement Rate'].mean()"
   ]
  },
  {
   "cell_type": "code",
   "execution_count": 30,
   "id": "63118386-4517-441d-955c-c30dcb3215f8",
   "metadata": {},
   "outputs": [
    {
     "data": {
      "text/plain": [
       "Account Type\n",
       "FBPAGE              14.605891\n",
       "INSTAGRAM            1.228905\n",
       "LINKEDIN_COMPANY     1.931654\n",
       "TIKTOK_BUSINESS      4.805182\n",
       "TWITTER              3.385004\n",
       "YOUTUBE              5.306207\n",
       "Name: Engagement Rate, dtype: float64"
      ]
     },
     "execution_count": 30,
     "metadata": {},
     "output_type": "execute_result"
    }
   ],
   "source": [
    "data_er_at"
   ]
  },
  {
   "cell_type": "markdown",
   "id": "3d761431-acd2-49ca-93e7-5edd6f193ca3",
   "metadata": {},
   "source": [
    "### From the above table we can observe\n",
    "\n",
    "- Facebook has highest engagement rate\n",
    "- Instagram has the least engagement rate"
   ]
  },
  {
   "cell_type": "code",
   "execution_count": 31,
   "id": "693eefe1-069c-428b-ac81-a1e3711de413",
   "metadata": {},
   "outputs": [
    {
     "data": {
      "text/plain": [
       "Account Type      Campaign Name        \n",
       "FBPAGE            Community Engagement     15.992891\n",
       "                  Evergreen                13.098000\n",
       "                  Evil Exhibited            3.513447\n",
       "INSTAGRAM         Community Engagement      1.208653\n",
       "                  Evergreen                 1.744471\n",
       "                  Evil Exhibited            0.815349\n",
       "LINKEDIN_COMPANY  Community Engagement      1.860454\n",
       "                  Evil Exhibited            3.213268\n",
       "TIKTOK_BUSINESS   Community Engagement      6.422724\n",
       "                  Evergreen                 4.832811\n",
       "                  Evil Exhibited            3.770242\n",
       "TWITTER           Community Engagement      3.476648\n",
       "                  Evergreen                11.770774\n",
       "                  Evil Exhibited            2.987679\n",
       "YOUTUBE           Community Engagement      8.240741\n",
       "                  Evergreen                 3.881755\n",
       "                  Evil Exhibited            5.023604\n",
       "Name: Engagement Rate, dtype: float64"
      ]
     },
     "execution_count": 31,
     "metadata": {},
     "output_type": "execute_result"
    }
   ],
   "source": [
    "data_er_at_cm = filtered_data.groupby(['Account Type', 'Campaign Name'])['Engagement Rate'].mean()\n",
    "data_er_at_cm"
   ]
  },
  {
   "cell_type": "markdown",
   "id": "ff609989-6fca-4610-b9f8-932b7b52cd4a",
   "metadata": {},
   "source": [
    "- From the above table we can see observe that the community engagement is having the highest Engagement rate when we have grouped by account type and further by the campaign name"
   ]
  },
  {
   "cell_type": "markdown",
   "id": "6fbd6dcd-e2d9-4257-be84-3614f01f5b33",
   "metadata": {},
   "source": [
    "### We can achieve the likelihood of reaching the overall engagement rate to 15%\n",
    "\n",
    "- Content optimization: When we upload an advertisement or other content, it must be simple to comprehend and appealing to the intended audience.\n",
    "\n",
    "- Call to Action: In the posts we need to have an accurate Call to Action and encourage the targeted audience to like, share, comment on the post.\n",
    "\n",
    "- After posting on the social media channels we need to continuously monitor the activity by tracking metrics like engagement rate, analyze patterns based on the week and day so that we can plan the posts on a particular time.\n",
    "\n",
    "- From the table of engagement rates split by account type, we could see that Instagram and Linkedin have low engagement rates. This shows us that we should increase our focus on them as Instagram and Linkedin have a huge customer base and if we target the right set of audience, we can increase the engagement rate to 15%."
   ]
  },
  {
   "cell_type": "markdown",
   "id": "85e22956-500a-46f3-9748-b04e3dbe3ccf",
   "metadata": {},
   "source": [
    "# Question 2 - Does day of the week and time of posting affect engagement rates?"
   ]
  },
  {
   "cell_type": "code",
   "execution_count": 32,
   "id": "f639de81-af38-42c1-8a56-fb57f65f02b3",
   "metadata": {},
   "outputs": [
    {
     "name": "stderr",
     "output_type": "stream",
     "text": [
      "/tmp/ipykernel_73709/548829108.py:1: SettingWithCopyWarning: \n",
      "A value is trying to be set on a copy of a slice from a DataFrame.\n",
      "Try using .loc[row_indexer,col_indexer] = value instead\n",
      "\n",
      "See the caveats in the documentation: https://pandas.pydata.org/pandas-docs/stable/user_guide/indexing.html#returning-a-view-versus-a-copy\n",
      "  filtered_data['Day of Week'] = filtered_data['Published Date'].dt.day_name()\n",
      "/tmp/ipykernel_73709/548829108.py:2: SettingWithCopyWarning: \n",
      "A value is trying to be set on a copy of a slice from a DataFrame.\n",
      "Try using .loc[row_indexer,col_indexer] = value instead\n",
      "\n",
      "See the caveats in the documentation: https://pandas.pydata.org/pandas-docs/stable/user_guide/indexing.html#returning-a-view-versus-a-copy\n",
      "  filtered_data['Hour of Day'] = filtered_data['Published Date'].dt.hour\n"
     ]
    }
   ],
   "source": [
    "filtered_data['Day of Week'] = filtered_data['Published Date'].dt.day_name()\n",
    "filtered_data['Hour of Day'] = filtered_data['Published Date'].dt.hour"
   ]
  },
  {
   "cell_type": "code",
   "execution_count": 33,
   "id": "b895cf9e-8612-4d4a-b8ff-2d8c78d306d0",
   "metadata": {},
   "outputs": [],
   "source": [
    "engagement_by_day = filtered_data.groupby('Day of Week')['Engagement Rate'].mean()\n",
    "\n",
    "engagement_by_hour = filtered_data.groupby('Hour of Day')['Engagement Rate'].mean()"
   ]
  },
  {
   "cell_type": "code",
   "execution_count": 34,
   "id": "3fd57b54-3a30-47c8-b730-631c199d3bec",
   "metadata": {},
   "outputs": [
    {
     "data": {
      "text/plain": [
       "Day of Week\n",
       "Friday       5.361005\n",
       "Monday       3.776978\n",
       "Saturday     3.763286\n",
       "Sunday       5.062531\n",
       "Thursday     4.785392\n",
       "Tuesday      6.706608\n",
       "Wednesday    4.391334\n",
       "Name: Engagement Rate, dtype: float64"
      ]
     },
     "execution_count": 34,
     "metadata": {},
     "output_type": "execute_result"
    }
   ],
   "source": [
    "engagement_by_day"
   ]
  },
  {
   "cell_type": "code",
   "execution_count": 35,
   "id": "3d531915-1d5b-4280-9f44-bd63d9178730",
   "metadata": {},
   "outputs": [
    {
     "data": {
      "text/plain": [
       "Hour of Day\n",
       "0           NaN\n",
       "3      5.656221\n",
       "4      5.575346\n",
       "5     14.581538\n",
       "6      5.716081\n",
       "7      6.803701\n",
       "8      7.818131\n",
       "9      6.033080\n",
       "10     4.177647\n",
       "11     4.504934\n",
       "12     5.247867\n",
       "13     5.133669\n",
       "14     4.605707\n",
       "15     3.352191\n",
       "16     4.418379\n",
       "17     3.095850\n",
       "18     4.458639\n",
       "19     3.900000\n",
       "20     5.334391\n",
       "21     6.089147\n",
       "22     2.059433\n",
       "23     2.859394\n",
       "Name: Engagement Rate, dtype: float64"
      ]
     },
     "execution_count": 35,
     "metadata": {},
     "output_type": "execute_result"
    }
   ],
   "source": [
    "engagement_by_hour"
   ]
  },
  {
   "cell_type": "code",
   "execution_count": 36,
   "id": "4f35860d-2b64-41d3-8c6b-a41f7283460e",
   "metadata": {},
   "outputs": [
    {
     "data": {
      "image/png": "[encoded data removed]",
      "text/plain": [
       "<Figure size 1000x600 with 1 Axes>"
      ]
     },
     "metadata": {},
     "output_type": "display_data"
    }
   ],
   "source": [
    "day_order = ['Sunday', 'Monday', 'Tuesday', 'Wednesday', 'Thursday', 'Friday', 'Saturday']\n",
    "plt.figure(figsize=(10, 6))\n",
    "engagement_by_day.reindex(day_order).plot()\n",
    "plt.xlabel('Day of the Week')\n",
    "plt.ylabel('Average Engagement Rate')\n",
    "plt.title('Average Engagement Rate by Day of the Week')\n",
    "plt.grid(False)\n",
    "plt.show()"
   ]
  },
  {
   "cell_type": "markdown",
   "id": "adb44af5-974a-484c-9cee-0371bc0cc5b1",
   "metadata": {},
   "source": [
    "### Observations\n",
    "\n",
    "- From the above graph, we can see that the engagement rate is high on Tuesdays and Fridays.\n",
    "- It is the least on Saturdays and Wednesdays."
   ]
  },
  {
   "cell_type": "code",
   "execution_count": 37,
   "id": "72620707-37c0-4e62-9baa-9527641160dc",
   "metadata": {},
   "outputs": [
    {
     "data": {
      "image/png": "[encoded data removed]",
      "text/plain": [
       "<Figure size 1000x600 with 1 Axes>"
      ]
     },
     "metadata": {},
     "output_type": "display_data"
    }
   ],
   "source": [
    "plt.figure(figsize=(10, 6))\n",
    "engagement_by_hour.plot()\n",
    "plt.xlabel('Hour of the Day')\n",
    "plt.ylabel('Average Engagement Rate')\n",
    "plt.title('Average Engagement Rate by Hour of the Day')\n",
    "plt.xticks(range(25))\n",
    "plt.grid(True)\n",
    "plt.show()"
   ]
  },
  {
   "cell_type": "markdown",
   "id": "e6f243fa-4e71-4ea5-a54e-26746968c19e",
   "metadata": {},
   "source": [
    "### Observations\n",
    "\n",
    "- From the above graph we could see that the engagement rate is high at 5:00 am in the morning and it gradually decreases till the time evening 4 pm and again there is a rise at 8:00 pm.\n",
    "\n",
    "- We do not have any engagement rates between 12:00 am to 2:00 am."
   ]
  },
  {
   "cell_type": "markdown",
   "id": "a2289b46-08f1-41a7-83ed-6268a5a0afba",
   "metadata": {},
   "source": [
    "### Recommendations\n",
    "\n",
    "- Based on the above 2 graphs to achieve the maximum engagement rate, we need to post on tuesdays and fridays during 5 am and 9 am.\n",
    "\n",
    "- We should not be posting anything during the midnight and especially on Wednesdays and Saturdays as we might lose lot of potential customers who might interact with the post."
   ]
  },
  {
   "cell_type": "markdown",
   "id": "68e23ee0-f725-4c2a-971b-f0ef7035ba71",
   "metadata": {},
   "source": [
    "# Question 3 -  How are our game titles doing in terms of social performance? Is there a specific game we should focus more on or less?"
   ]
  },
  {
   "cell_type": "code",
   "execution_count": 38,
   "id": "e50e1314-e781-4a46-990a-4bb9ef3bf174",
   "metadata": {},
   "outputs": [
    {
     "name": "stdout",
     "output_type": "stream",
     "text": [
      "\n",
      "Grouped by Account:\n",
      "Account\n",
      "CSGO                 3.798739\n",
      "Content Creators    18.670179\n",
      "DOTA2                5.212327\n",
      "General              5.030611\n",
      "Valorant             5.374779\n",
      "Name: Engagement Rate, dtype: float64\n"
     ]
    },
    {
     "name": "stderr",
     "output_type": "stream",
     "text": [
      "/tmp/ipykernel_73709/138766022.py:1: FutureWarning: The default value of numeric_only in DataFrameGroupBy.mean is deprecated. In a future version, numeric_only will default to False. Either specify numeric_only or select only columns which should be valid for the function.\n",
      "  grouped_by_account = filtered_data.groupby('Account').mean()\n"
     ]
    }
   ],
   "source": [
    "grouped_by_account = filtered_data.groupby('Account').mean()\n",
    "print(\"\\nGrouped by Account:\")\n",
    "print(grouped_by_account['Engagement Rate'])"
   ]
  },
  {
   "cell_type": "markdown",
   "id": "33cf9b34-c511-4794-85d1-42f9b5cc49ee",
   "metadata": {},
   "source": [
    "### Observations\n",
    "\n",
    "- From the above table we could see that the engagement rate is high for Valorant and DOTA2 ( nearly 5%). We can concentrate less when compared to CSGO, but we need to keep improving our strategies to stay up to the market level.\n",
    "- We need to concentrate more on CSGO as it has the least engagement rate (nearly 3%)."
   ]
  },
  {
   "cell_type": "markdown",
   "id": "11419681-3d87-4f71-96c0-1b0ab3e8dc41",
   "metadata": {},
   "source": [
    "# Question 4 - What media type performs the best?"
   ]
  },
  {
   "cell_type": "code",
   "execution_count": 39,
   "id": "6b909855-5bef-435e-85b3-3be50141c8ec",
   "metadata": {},
   "outputs": [
    {
     "name": "stdout",
     "output_type": "stream",
     "text": [
      "Grouped by Media Type:\n",
      "            Total Impressions  Total Engagements  Engagement Rate\n",
      "Media Type                                                       \n",
      "Carousel         17854.333333         726.777778         3.784294\n",
      "Link              6277.812500          50.375000         0.935904\n",
      "Mixed            37823.333333        2785.333333        10.724648\n",
      "Photo            20969.517820        1639.581761         5.354994\n",
      "Text              6826.223301         446.132686         3.960105\n",
      "Video            12060.855895         807.385735         5.050341\n"
     ]
    },
    {
     "name": "stderr",
     "output_type": "stream",
     "text": [
      "/tmp/ipykernel_73709/3073886929.py:1: FutureWarning: The default value of numeric_only in DataFrameGroupBy.mean is deprecated. In a future version, numeric_only will default to False. Either specify numeric_only or select only columns which should be valid for the function.\n",
      "  grouped_by_media_type = filtered_data.groupby('Media Type').mean()\n"
     ]
    }
   ],
   "source": [
    "grouped_by_media_type = filtered_data.groupby('Media Type').mean()\n",
    "print(\"Grouped by Media Type:\")\n",
    "print(grouped_by_media_type[['Total Impressions', 'Total Engagements', 'Engagement Rate']])"
   ]
  },
  {
   "cell_type": "markdown",
   "id": "ebffcdff-89fd-4686-8ec5-be188a9f8899",
   "metadata": {},
   "source": [
    "### Observations\n",
    "\n",
    "- We could see that the engagement rate is higher for Mixed.\n",
    "\n",
    "- The engagement rate for Photo and Video is 5% which makes sense as people tend to interact more when the post has a pictures and videos (engaging content).\n",
    "\n",
    "- The text and link has the least engagement which makes sense as people tend to not read the post if there is a lot of text or when they are prompted a link to open."
   ]
  },
  {
   "cell_type": "markdown",
   "id": "88825bae-062e-4750-aef2-75cd75b9c5c8",
   "metadata": {},
   "source": [
    "# Question 5 - What is our best performing campaign?"
   ]
  },
  {
   "cell_type": "code",
   "execution_count": 40,
   "id": "dd757980-af67-42d1-bf6b-40451e819080",
   "metadata": {},
   "outputs": [
    {
     "name": "stdout",
     "output_type": "stream",
     "text": [
      "\n",
      "Grouped by Campaign Name:\n",
      "                       Total Impressions  Total Engagements  Engagement Rate\n",
      "Campaign Name                                                               \n",
      "Community Engagement        16870.131821        1449.161588         5.765298\n",
      "Evergreen                    8151.711656         264.582822         3.510548\n",
      "Evil Exhibited              13672.845238         441.202381         2.866060\n"
     ]
    },
    {
     "name": "stderr",
     "output_type": "stream",
     "text": [
      "/tmp/ipykernel_73709/135594761.py:2: FutureWarning: The default value of numeric_only in DataFrameGroupBy.mean is deprecated. In a future version, numeric_only will default to False. Either specify numeric_only or select only columns which should be valid for the function.\n",
      "  grouped_by_campaign_name = filtered_data.groupby('Campaign Name').mean()\n"
     ]
    }
   ],
   "source": [
    "# Group by Campaign Name\n",
    "grouped_by_campaign_name = filtered_data.groupby('Campaign Name').mean()\n",
    "print(\"\\nGrouped by Campaign Name:\")\n",
    "print(grouped_by_campaign_name[['Total Impressions', 'Total Engagements', 'Engagement Rate']])"
   ]
  },
  {
   "cell_type": "markdown",
   "id": "591f01b0-f699-4e49-9ed7-ab01a5a5a05d",
   "metadata": {},
   "source": [
    "### Observations\n",
    "\n",
    "- We can see that the community engagement rate has the highest engagement rate with almost 6% which means it has been successful in driving the audience interactions.\n",
    "\n",
    "- Evil exhibit is the least and it needs to be improved to have better engagement rates."
   ]
  },
  {
   "cell_type": "markdown",
   "id": "b02abb8b-a6b7-4e80-aed3-cd13e0d05b71",
   "metadata": {},
   "source": [
    "# Question 6 - Define out a posting strategy for our social channels based on your discoveries."
   ]
  },
  {
   "cell_type": "markdown",
   "id": "432d860c-6ce2-4418-a253-4fd3a27464ed",
   "metadata": {},
   "source": [
    "## Strategy\n",
    "\n",
    "- From the above findings we could follow the below strategy to get the maximum engagement rates\n",
    "\n",
    "- Best Days: Tuesdays and Saturdays\n",
    "- Best Time: Post between 5:00 am to 8:00 am and also during 8:00 pm\n",
    "- Best Campaign Name: Give priority to Community Engagement\n",
    "- Best Media Type: Photo and Video\n",
    "- Best Game Title: Valorant and DOTA2\n",
    "- Best Account Type: Facebook, Tiktok business and Youtube\n",
    "\n",
    "- Based on the above best social channels and account, it is ideal to use Facebook, Tik Tok and Youtbe as the social media channel and post photos and videos on community engagement campaign during 5:00 am and 8:00 am on Tuesdays and Saturdays. \n",
    "- We can also use the game titles of Valorant and DOTA2 to increase the engagement rates as they have the maximum engagement rates\n",
    "\n",
    "-  It is important to monitor and analyze the performance of the social media posts and campaigns on a daily basis or weekly basis. We need to refine the strategy based on ongoing data analysis, audience feedback, and market trends to ensure optimal engagement and success."
   ]
  },
  {
   "cell_type": "markdown",
   "id": "aeadd8ce-1091-470f-870d-38e425611f20",
   "metadata": {},
   "source": [
    "# Question - 7 What suggestions would you give to the social media team if they want to expand their presence (e.g. if our CSGO youtube channel is doing well should we expand to TikTok)?"
   ]
  },
  {
   "cell_type": "code",
   "execution_count": 41,
   "id": "dce1330c-2118-4f20-afb8-b0b269c8af01",
   "metadata": {},
   "outputs": [
    {
     "data": {
      "text/plain": [
       "Account           Account Type      Campaign Name          Media Type\n",
       "CSGO              TWITTER           Community Engagement   Link           1.172803\n",
       "                                                           Photo          2.245745\n",
       "                                                           Text           3.719896\n",
       "                                                           Video         10.499799\n",
       "Content Creators  YOUTUBE           Community Engagement   Text                NaN\n",
       "                                                           Video         20.737548\n",
       "                                    Evergreen              Video          8.333333\n",
       "DOTA2             TWITTER           Community Engagement   Mixed         18.392505\n",
       "                                                           Photo          5.746798\n",
       "                                                           Text           3.920434\n",
       "                                                           Video         10.452788\n",
       "                                    Evil Exhibited         Link           1.507538\n",
       "                                                           Photo          2.907684\n",
       "                                                           Text           1.725285\n",
       "                                                           Video          4.470097\n",
       "General           FBPAGE            Community Engagement   Link                NaN\n",
       "                                                           Photo         16.082584\n",
       "                                                           Text          16.177807\n",
       "                                                           Video         15.586445\n",
       "                                    Evergreen              Video         13.098000\n",
       "                                    Evil Exhibited         Link           0.810474\n",
       "                                                           Photo          3.111972\n",
       "                                                           Video          4.884376\n",
       "                  INSTAGRAM         Community Engagement   Carousel       4.103980\n",
       "                                                           Photo          1.240528\n",
       "                                                           Video          0.766362\n",
       "                                    Evergreen              Video          1.744471\n",
       "                                    Evil Exhibited         Carousel       1.226810\n",
       "                                                           Photo          0.517378\n",
       "                                                           Video          1.023340\n",
       "                  LINKEDIN_COMPANY  Community Engagement   Link           1.859330\n",
       "                                                           Photo          1.904212\n",
       "                                                           Text           0.979833\n",
       "                                                           Video          2.479645\n",
       "                                    Evil Exhibited         Link           3.213268\n",
       "                  TIKTOK_BUSINESS   Community Engagement   Video          6.422724\n",
       "                                    Evergreen              Video          4.832811\n",
       "                                    Evil Exhibited         Video          3.770242\n",
       "                  TWITTER           Community Engagement   Link           0.583594\n",
       "                                                           Mixed          6.533617\n",
       "                                                           Photo          1.673410\n",
       "                                                           Text           3.052860\n",
       "                                                           Video          3.777032\n",
       "                                    Evergreen              Video         11.770774\n",
       "                                    Evil Exhibited         Link           1.760745\n",
       "                                                           Mixed          7.247822\n",
       "                                                           Photo          2.371620\n",
       "                                                           Text           3.038662\n",
       "                                                           Video          4.012797\n",
       "                  YOUTUBE           Community Engagement   Video          3.777596\n",
       "                                    Evergreen              Video          3.738155\n",
       "                                    Evil Exhibited         Video          2.214198\n",
       "Valorant          YOUTUBE           Evil Exhibited         Link                NaN\n",
       "                                                           Text                NaN\n",
       "                                                           Video          5.374779\n",
       "Name: Engagement Rate, dtype: float64"
      ]
     },
     "execution_count": 41,
     "metadata": {},
     "output_type": "execute_result"
    }
   ],
   "source": [
    "data_sandbox = filtered_data.groupby(['Account', 'Account Type', 'Campaign Name', 'Media Type'])['Engagement Rate'].mean()\n",
    "data_sandbox"
   ]
  },
  {
   "cell_type": "markdown",
   "id": "0ae7dd5f-baa4-4d00-894f-b987490cb08f",
   "metadata": {},
   "source": [
    "# Recommendations for the social media team\n",
    "\n",
    "## CSGO account\n",
    "\n",
    "- For the CSGO account, we have only one account type which is twitter and we have Video type with the maximum engagement rate and the text, photo and link have very less engagement rate. If we can put engaging pictures and perfect to CTA in the post we can increase the overall engagement rate\n",
    "\n",
    "## DOTA account\n",
    "\n",
    "- For the DOTA account, we have only one account type which is twitter and we have 3 different types of campaigns. Mixed and Video type have the maximum engagement rate in community engagement campaign and the text, photo and link have very less engagement rate. If we can put engaging pictures and perfect to CTA in the post we can increase the overall engagement rate. \n",
    "\n",
    "- For the Evil exhibited, we have less engagement rate when compared to community engagement. We can concentrate more on evil exhibited by implementing better pictures, text and video which can increase the engagement rate\n",
    "\n",
    "## General \n",
    "\n",
    "- For the general account Facebook has a huge engagement rate when compared to other platforms. The social media team should concentrate on tiktok, youtube, linkedin, instagram as they also have huge audience. It is the same case where the videos are having higher engagement rate and less in the photos, links and text. If we can add engaging visuals in the picture and high level content where there is a clear CTA, we will have more engagement rate.\n",
    "\n",
    "## Valorant\n",
    "\n",
    "- For Valorant account, We have only youtube as a medium and the video is performing with a good rate. Since we are doing well in YT, we should increase our reach to different platforms like Tiktok business, Instagram and twitter."
   ]
  },
  {
   "cell_type": "markdown",
   "id": "e9d60987-7084-4686-98d9-c0944e34200c",
   "metadata": {},
   "source": [
    "## Apart from the above recommendations we need to follow the below steps to keep track of the engagement rates\n",
    "\n",
    "- Monitor the new strategies which we have applied so that we can optimize the posts and change the strategy accordingly so that we can reach out to more audience.\n",
    "\n",
    "- Targeting the right set of audience is important as the money and time invested will be useless if we are not reaching to the right set of audience\n",
    "\n",
    "- Conduct surveys asking for audience feedback as their input can matter a lot and we can implement our strategies accordingly.\n",
    "\n",
    "## Metrics to track\n",
    "\n",
    "- Total Engagements grouped by campaigns, accounts and media type\n",
    "- Total Impressions grouped by campaigns, accounts and media type\n",
    "- Engagement Rate over weekly and monthly data\n",
    "- Follower count: we need to keep track of the followers and also see how people from different countries are interacting with the posts\n",
    "\n",
    "- By tracking and analyzing these metrics, we can gain valuable insights into the performance of the social media efforts, identify areas for improvement, and optimize the strategies to achieve the goals"
   ]
  },
  {
   "cell_type": "code",
   "execution_count": null,
   "id": "85da5937-b6ec-4e44-a175-3729d68e135d",
   "metadata": {},
   "outputs": [],
   "source": []
  },
  {
   "cell_type": "code",
   "execution_count": null,
   "id": "96b5dccb-10b9-4d81-aa4d-a3350c4a8d83",
   "metadata": {},
   "outputs": [],
   "source": []
  },
  {
   "cell_type": "code",
   "execution_count": null,
   "id": "e2bcd456-f817-4ed5-9d1f-e833e5d37069",
   "metadata": {},
   "outputs": [],
   "source": []
  },
  {
   "cell_type": "code",
   "execution_count": null,
   "id": "540a30e1-b480-4fc1-9f2b-e47dea9afd64",
   "metadata": {},
   "outputs": [],
   "source": []
  }
 ],
 "metadata": {
  "kernelspec": {
   "display_name": "Python 3 (ipykernel)",
   "language": "python",
   "name": "python3"
  },
  "language_info": {
   "codemirror_mode": {
    "name": "ipython",
    "version": 3
   },
   "file_extension": ".py",
   "mimetype": "text/x-python",
   "name": "python",
   "nbconvert_exporter": "python",
   "pygments_lexer": "ipython3",
   "version": "3.10.8"
  }
 },
 "nbformat": 4,
 "nbformat_minor": 5
}
